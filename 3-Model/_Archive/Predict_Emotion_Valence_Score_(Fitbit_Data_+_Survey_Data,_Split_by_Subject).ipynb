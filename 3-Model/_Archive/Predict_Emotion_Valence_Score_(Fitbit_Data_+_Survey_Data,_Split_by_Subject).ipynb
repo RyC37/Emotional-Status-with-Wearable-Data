{
  "nbformat": 4,
  "nbformat_minor": 0,
  "metadata": {
    "colab": {
      "name": "Predict Emotion Valence Score (Fitbit Data + Survey Data, Split by Subject).ipynb",
      "provenance": [],
      "collapsed_sections": [],
      "toc_visible": true
    },
    "kernelspec": {
      "name": "python3",
      "display_name": "Python 3"
    }
  },
  "cells": [
    {
      "cell_type": "markdown",
      "metadata": {
        "id": "p0IZnxrl3cJS",
        "colab_type": "text"
      },
      "source": [
        "# Predict Emotion Valence Score (Fitbit Data + Survey Data, Split by Subject)"
      ]
    },
    {
      "cell_type": "code",
      "metadata": {
        "id": "0iDhXU8h3SAN",
        "colab_type": "code",
        "colab": {}
      },
      "source": [
        "import pandas as pd\n",
        "import numpy as np\n",
        "!pip install catboost\n",
        "import catboost\n",
        "import matplotlib.pyplot as plt\n",
        "import seaborn as sns\n",
        "from sklearn.model_selection import train_test_split, GroupKFold, cross_val_score, cross_val_predict\n",
        "\n",
        "# Linear Regression\n",
        "# import statsmodels.api as sm\n",
        "\n",
        "# Logistic Regression & Linear Regression\n",
        "from sklearn.linear_model import LogisticRegression, LinearRegression, Ridge, Lasso, BayesianRidge, SGDRegressor\n",
        "from sklearn import preprocessing\n",
        "# Random Forest\n",
        "from sklearn.ensemble import RandomForestClassifier\n",
        "\n",
        "# Evaluation\n",
        "import matplotlib.pyplot as plt\n",
        "from sklearn.metrics import accuracy_score, confusion_matrix, recall_score, precision_score, f1_score, auc, roc_curve\n",
        "import seaborn as sns\n",
        "\n",
        "# Re-sample\n",
        "from sklearn.utils import resample\n",
        "from imblearn.over_sampling import SMOTE"
      ],
      "execution_count": 0,
      "outputs": []
    },
    {
      "cell_type": "code",
      "metadata": {
        "id": "lwA4WD36E-9c",
        "colab_type": "code",
        "colab": {}
      },
      "source": [
        "# pd.set_option('display.max_rows', 1000)"
      ],
      "execution_count": 0,
      "outputs": []
    },
    {
      "cell_type": "markdown",
      "metadata": {
        "id": "urRb_OfR3jyF",
        "colab_type": "text"
      },
      "source": [
        "## 1.Load Data"
      ]
    },
    {
      "cell_type": "code",
      "metadata": {
        "id": "dpc9LLRy3fDk",
        "colab_type": "code",
        "colab": {}
      },
      "source": [
        "exp = pd.read_csv('exp_steps_hr_sleep_survey.csv')"
      ],
      "execution_count": 0,
      "outputs": []
    },
    {
      "cell_type": "markdown",
      "metadata": {
        "id": "nQGYh7sf30TD",
        "colab_type": "text"
      },
      "source": [
        "## 2.EDA"
      ]
    },
    {
      "cell_type": "markdown",
      "metadata": {
        "id": "mwp0oQ9t33W6",
        "colab_type": "text"
      },
      "source": [
        "### (1) Missing Data Detection"
      ]
    },
    {
      "cell_type": "code",
      "metadata": {
        "id": "e_y9HzZ63wOE",
        "colab_type": "code",
        "colab": {}
      },
      "source": [
        "missing_rate = exp.isna().sum()/exp.shape[0]\n",
        "missing_rate"
      ],
      "execution_count": 0,
      "outputs": []
    },
    {
      "cell_type": "code",
      "metadata": {
        "id": "jkTgEFy13_aX",
        "colab_type": "code",
        "colab": {}
      },
      "source": [
        "# Columns with more than 50% missing\n",
        "missing_mt_half_col = missing_rate[missing_rate > .5].index.values\n",
        "missing_mt_half_col"
      ],
      "execution_count": 0,
      "outputs": []
    },
    {
      "cell_type": "code",
      "metadata": {
        "id": "BofjAKOo4IrS",
        "colab_type": "code",
        "colab": {}
      },
      "source": [
        "# Columns with less than 50% missing\n",
        "missing_lt_half_col = missing_rate[missing_rate <= .3].index.values\n",
        "missing_lt_half_col"
      ],
      "execution_count": 0,
      "outputs": []
    },
    {
      "cell_type": "code",
      "metadata": {
        "id": "8QmqojT18FiH",
        "colab_type": "code",
        "colab": {}
      },
      "source": [
        "# Missingness of label\n",
        "exp[['la_p', 'ha_p', 'ha_n', 'la_n','la', 'p', 'n', 'ha']].isna().sum()"
      ],
      "execution_count": 0,
      "outputs": []
    },
    {
      "cell_type": "markdown",
      "metadata": {
        "id": "-9zyWgde41oO",
        "colab_type": "text"
      },
      "source": [
        "### (2) Observe Labels"
      ]
    },
    {
      "cell_type": "code",
      "metadata": {
        "id": "xfGAeYE44ji0",
        "colab_type": "code",
        "colab": {}
      },
      "source": [
        "exp[['la_p', 'ha_p', 'ha_n', 'la_n','la', 'p', 'n', 'ha']].hist(figsize=(20,12))"
      ],
      "execution_count": 0,
      "outputs": []
    },
    {
      "cell_type": "code",
      "metadata": {
        "id": "7awrIqCVpY8N",
        "colab_type": "code",
        "colab": {}
      },
      "source": [
        "corr = exp[['la_p', 'ha_p', 'ha_n', 'la_n','la', 'p', 'n', 'ha']].corr()"
      ],
      "execution_count": 0,
      "outputs": []
    },
    {
      "cell_type": "code",
      "metadata": {
        "id": "qD2f_aY0qLR9",
        "colab_type": "code",
        "colab": {}
      },
      "source": [
        "def correlation_heatmap(df):\n",
        "  # Generate a mask for the upper triangle\n",
        "  mask = np.triu(np.ones_like(df, dtype=np.bool))\n",
        "  # Set up the matplotlib figure\n",
        "  f, ax = plt.subplots(figsize=(11, 9))\n",
        "  # Generate a custom diverging colormap\n",
        "  cmap = sns.diverging_palette(220, 10, as_cmap=True)\n",
        "  # Draw the heatmap with the mask and correct aspect ratio\n",
        "  sns.heatmap(df, mask=mask, cmap=cmap, vmax=.3, center=0,\n",
        "              square=True, linewidths=.5, cbar_kws={\"shrink\": .5})\n",
        "\n",
        "correlation_heatmap(corr)"
      ],
      "execution_count": 0,
      "outputs": []
    },
    {
      "cell_type": "code",
      "metadata": {
        "id": "MSi0i1B-5yLl",
        "colab_type": "code",
        "colab": {}
      },
      "source": [
        "exp[['la_p', 'ha_p', 'ha_n', 'la_n','la', 'p', 'n', 'ha']].describe()"
      ],
      "execution_count": 0,
      "outputs": []
    },
    {
      "cell_type": "markdown",
      "metadata": {
        "id": "n8EMRwu15FGB",
        "colab_type": "text"
      },
      "source": [
        "### (3) Observe Positive / Negative Emotion"
      ]
    },
    {
      "cell_type": "code",
      "metadata": {
        "id": "mX-gdm4840jA",
        "colab_type": "code",
        "colab": {}
      },
      "source": [
        "# 'pn_raw' represent how happy / unhappy the subjects are\n",
        "exp['pn_raw'] = (exp['la_p'] + exp['p'] + exp['ha_p'])/3 - (exp['la_n'] + exp['n'] + exp['ha_n'])/3"
      ],
      "execution_count": 0,
      "outputs": []
    },
    {
      "cell_type": "code",
      "metadata": {
        "id": "xpmasjmL7OYK",
        "colab_type": "code",
        "colab": {}
      },
      "source": [
        "# Ratio of 'pn_raw' < 0\n",
        "print('pn_raw < 0: ',str(sum(exp['pn_raw'] < 0)/exp.shape[0]))\n",
        "print('pn_raw = 0: ',str(sum(exp['pn_raw'] == 0)/exp.shape[0]))\n",
        "print('pn_raw > 0: ',str(sum(exp['pn_raw'] > 0)/exp.shape[0]))"
      ],
      "execution_count": 0,
      "outputs": []
    },
    {
      "cell_type": "code",
      "metadata": {
        "id": "ZZHSz72v7Pun",
        "colab_type": "code",
        "colab": {}
      },
      "source": [
        "# Histogram of 'pn_raw'\n",
        "exp['pn_raw'].hist()"
      ],
      "execution_count": 0,
      "outputs": []
    },
    {
      "cell_type": "markdown",
      "metadata": {
        "id": "7AVK9eAv9GQR",
        "colab_type": "text"
      },
      "source": [
        "## 3.Pre-processing"
      ]
    },
    {
      "cell_type": "markdown",
      "metadata": {
        "id": "H9XtjN1X9OOd",
        "colab_type": "text"
      },
      "source": [
        "### (1) Data Cleaning\n",
        "Let's only use predictors with less than 50% missing."
      ]
    },
    {
      "cell_type": "code",
      "metadata": {
        "id": "533ca_-X84EQ",
        "colab_type": "code",
        "colab": {}
      },
      "source": [
        "# Columns with less than 50% missing\n",
        "feature_cols = [\n",
        "       'step_max', 'step_min', 'step_median', \n",
        "       \n",
        "       'steps_max_3h', 'steps_min_3h', 'steps_mean_3h', 'steps_var_3h', 'steps_median_3h', \n",
        "       'move_rate_3h', 'active_rate_3h', 'very_active_rate_3h', 'running_rate_3h',\n",
        "       \n",
        "       'steps_max_1h', 'steps_min_1h', 'steps_mean_1h', 'steps_var_1h', 'steps_median_1h', \n",
        "       'move_rate_1h', 'active_rate_1h', 'very_active_rate_1h', 'running_rate_1h', \n",
        "       \n",
        "       'steps_max_30m', 'steps_min_30m', 'steps_mean_30m', 'steps_var_30m', 'steps_median_30m', \n",
        "       'move_rate_30m', 'active_rate_30m', 'very_active_rate_30m', 'running_rate_30m', \n",
        "       \n",
        "       'steps_max_10m', 'steps_min_10m', 'steps_mean_10m', 'steps_var_10m', 'steps_median_10m', \n",
        "       'move_rate_10m', 'active_rate_10m', 'very_active_rate_10m', 'running_rate_10m', \n",
        "       \n",
        "       'steps_max_5m', 'steps_min_5m', 'steps_mean_5m', 'steps_var_5m', 'steps_median_5m',\n",
        "       'move_rate_5m', 'active_rate_5m', 'very_active_rate_5m', 'running_rate_5m', \n",
        "       \n",
        "       'hr_max', 'hr_min', 'hr_med',\n",
        "       \n",
        "       'SDNN_3h', 'pHR2_3h', 'rMSSD_3h', 'low_hr_3h', 'high_hr_3h', 'l_h_3h', 'CR_3h', 'hr_mean_3h', \n",
        "       'hr_var_3h', 'hr_std_3h', 'hr_median_3h', 'hr_rest_rate_3h', 'hr_moderate_rate_3h',\n",
        "       'hr_very_active_rate_3h', \n",
        "       \n",
        "       'SDNN_1h', 'pHR2_1h', 'rMSSD_1h', 'low_hr_1h', 'high_hr_1h', 'l_h_1h', 'CR_1h', 'hr_mean_1h',\n",
        "       'hr_var_1h', 'hr_std_1h', 'hr_median_1h', 'hr_rest_rate_1h',\n",
        "       'hr_moderate_rate_1h', 'hr_very_active_rate_1h', \n",
        "       \n",
        "       'SDNN_30m', 'pHR2_30m', 'rMSSD_30m', 'low_hr_30m', 'high_hr_30m', 'l_h_30m', 'CR_30m', 'hr_mean_30m', \n",
        "       'hr_var_30m', 'hr_std_30m', 'hr_median_30m', 'hr_rest_rate_30m', \n",
        "       'hr_moderate_rate_30m', 'hr_very_active_rate_30m', \n",
        "       \n",
        "       'SDNN_10m', 'pHR2_10m', 'rMSSD_10m', 'low_hr_10m', 'high_hr_10m', 'l_h_10m', 'CR_10m', 'hr_mean_10m',\n",
        "       'hr_var_10m', 'hr_std_10m', 'hr_median_10m', 'hr_rest_rate_10m',\n",
        "       'hr_moderate_rate_10m', 'hr_very_active_rate_10m', \n",
        "       \n",
        "       'SDNN_5m', 'pHR2_5m', 'rMSSD_5m', 'low_hr_5m', 'high_hr_5m', 'l_h_5m',\n",
        "       'CR_5m', 'hr_mean_5m', 'hr_var_5m', 'hr_std_5m', 'hr_median_5m',\n",
        "       'hr_rest_rate_5m', 'hr_moderate_rate_5m', 'hr_very_active_rate_5m',\n",
        "       \n",
        "       'hr_0', 'hr_0.3', 'hr_0.5', 'hr_0.8', 'hr_1', \n",
        "       \n",
        "       'SBQ', 'FTP', 'SWLS', 'Neuroticism', 'Extraversion', 'Conscientiousness',\n",
        "       'NS_total', 'BIS_total', 'BIS.5', 'BAS_D', 'BAS_FS', 'BAS_RR',\n",
        "       'HAP_actual', 'P_actual', 'LAP_actual', 'LA_actual', 'LAN_actual',\n",
        "       'N_actual', 'HAN_actual', 'HA_actual', 'HAP_ideal', 'P_ideal',\n",
        "       'LAP_ideal', 'LA_ideal', 'LAN_ideal', 'N_ideal', 'HAN_ideal',\n",
        "       'HA_ideal', 'Education', 'Ethnicity', 'Sex', 'Marital_Status',\n",
        "       'Children', 'Household_income', 'Age', 'BMI', 'Medications', \n",
        "       'survey_hour','experiment', 'subject'\n",
        "       ]\n",
        "label_cols = ['la_p', 'ha_p', 'ha_n', 'la_n', 'la', 'p', 'n', 'ha']"
      ],
      "execution_count": 0,
      "outputs": []
    },
    {
      "cell_type": "code",
      "metadata": {
        "id": "OE78uXdE-WV4",
        "colab_type": "code",
        "colab": {}
      },
      "source": [
        "# Generate design matrix\n",
        "design_matrix = exp[feature_cols + label_cols]"
      ],
      "execution_count": 0,
      "outputs": []
    },
    {
      "cell_type": "code",
      "metadata": {
        "id": "t8-fexHm-gBq",
        "colab_type": "code",
        "colab": {}
      },
      "source": [
        "# Drop NA\n",
        "design_matrix = design_matrix.dropna()"
      ],
      "execution_count": 0,
      "outputs": []
    },
    {
      "cell_type": "code",
      "metadata": {
        "id": "65P23O2F-rI-",
        "colab_type": "code",
        "colab": {}
      },
      "source": [
        "design_matrix.shape"
      ],
      "execution_count": 0,
      "outputs": []
    },
    {
      "cell_type": "markdown",
      "metadata": {
        "id": "KC2e4c53-8RW",
        "colab_type": "text"
      },
      "source": [
        "### (2) Generate Labels"
      ]
    },
    {
      "cell_type": "code",
      "metadata": {
        "id": "fqr1AmOK-1Tv",
        "colab_type": "code",
        "colab": {}
      },
      "source": [
        "design_matrix['pn_raw'] = (design_matrix['la_p'] + design_matrix['p'] + design_matrix['ha_p'])/3 \\\n",
        "        - (design_matrix['la_n'] + design_matrix['n'] + design_matrix['ha_n'])/3"
      ],
      "execution_count": 0,
      "outputs": []
    },
    {
      "cell_type": "code",
      "metadata": {
        "id": "ql_Ak5Yy-5rB",
        "colab_type": "code",
        "colab": {}
      },
      "source": [
        "# Create dummy variable for valence, with 0 to be unhappy, and 1 to be happy.\n",
        "design_matrix['valence'] = 1\n",
        "design_matrix.loc[design_matrix['pn_raw'] <= 0, 'valence'] = 0"
      ],
      "execution_count": 0,
      "outputs": []
    },
    {
      "cell_type": "code",
      "metadata": {
        "id": "A8NMOvt9ABIX",
        "colab_type": "code",
        "colab": {}
      },
      "source": [
        "design_matrix['valence'].hist()"
      ],
      "execution_count": 0,
      "outputs": []
    },
    {
      "cell_type": "markdown",
      "metadata": {
        "id": "nd3Wvu_VAHii",
        "colab_type": "text"
      },
      "source": [
        "As you can see, this is very imbalanced data. Let's use a logistic regression to start."
      ]
    },
    {
      "cell_type": "markdown",
      "metadata": {
        "id": "m9H9nPAkBoW6",
        "colab_type": "text"
      },
      "source": [
        "### (3) Encode Categorical Data"
      ]
    },
    {
      "cell_type": "markdown",
      "metadata": {
        "id": "jBx3jcuyUL9Q",
        "colab_type": "text"
      },
      "source": [
        "i. List All Categorical Data"
      ]
    },
    {
      "cell_type": "code",
      "metadata": {
        "id": "ZN8miLoeVY6O",
        "colab_type": "code",
        "colab": {}
      },
      "source": [
        "# Categorical Features\n",
        "design_matrix.columns[design_matrix.dtypes != 'float64']"
      ],
      "execution_count": 0,
      "outputs": []
    },
    {
      "cell_type": "markdown",
      "metadata": {
        "id": "fmwZnqvmUPuW",
        "colab_type": "text"
      },
      "source": [
        "ii. Convert Education"
      ]
    },
    {
      "cell_type": "code",
      "metadata": {
        "id": "CGGEKca0WZR6",
        "colab_type": "code",
        "colab": {}
      },
      "source": [
        "design_matrix['Education'].unique()\n",
        "\n",
        "MBA = ['MBA', 'High School Diploma, BA, MBA', 'B.S. Business Management', 'BS Business','College grad']\n",
        "# Art = ['Bachelor of Arts', 'Bachelor of Arts + Equivalency Degree', 'Bachelor Degree Music Ed']\n",
        "# Med = ['Medical Degree', 'B.A. English/Spanish B.S. Nursing', 'BSN- bachelors of science in nursing']\n",
        "# Psy = ['Education specialist in School Psy, M.A. in Educational Psy', 'M.S. Psychology/ B.A. Sociology', 'B.S. Psychology Texas A&M']\n",
        "\n",
        "\n",
        "HighSchool = ['12.0','high school', 'High School', 'high school + cosmetology school', 'High School Graduate']\n",
        "BA = ['Some college', 'B.A. English/Spanish B.S. Nursing', 'B.S. working on MD and MTS', 'B.S.  Mechanical Engineering', \n",
        "      \"Bachelor's Degree\", 'B.A.', 'College student 3 years', 'B.A. from Cornell Univ.', 'Bachelors degree in Social Work', \n",
        "      'BS', 'BA Vanderbilt', 'BS Communications', \"college graduate (bachelor's degree in Music from Belmont University)\",\n",
        "      'Bachelor of Arts', 'BSN- bachelors of science in nursing', 'BSE Princeton',\n",
        "      'Obtained B.S., 2011', 'bachelor of science', 'Bachelor of Social Work', 'B.S.', 'BBA - Bachelors', 'BSC Communications',\n",
        "      'B.A. 1988', 'B.S. degree dietetics, internship', 'Bachelor of Arts + Equivalency Degree', 'Bachelors', 'B.S. Business Management',\n",
        "      'B.S. Psychology Texas A&M', 'BS Journalism; BS Nutrition', 'B.E.Sc.', 'Bachelor Degree Music Ed', 'NDCDP',\n",
        "      'BS Math/Computer Science', 'BS Business', 'college graduate','14.0','16.0']\n",
        "Master = MBA + ['College, Masters',\"Bachelor of science, 1 year of Master's\",'Masters; PhD ongoing', 'M.S. Psychology/ B.A. Sociology',\n",
        "                'B.S., MPH','18.0', '19.0']\n",
        "PhD = ['Ph.D.', 'PhD Candidate', 'PhD', 'BS. (PhD Student currently)', 'Masters; PhD ongoing', \n",
        "       'Pursuing PhD at Vanderbilt. Have B.S. from UTK', 'BA from Stanford, JD from Univ of Michigan','21.0', '22.0', '20.0']"
      ],
      "execution_count": 0,
      "outputs": []
    },
    {
      "cell_type": "code",
      "metadata": {
        "id": "NqhatPoiUVR7",
        "colab_type": "code",
        "colab": {}
      },
      "source": [
        "# design_matrix['is_MBA'] = 0\n",
        "# design_matrix.loc[design_matrix['Education'].isin(MBA), 'is_MBA'] = 1\n",
        "# design_matrix['is_Art'] = 0\n",
        "# design_matrix.loc[design_matrix['Education'].isin(Art), 'is_Art'] = 1\n",
        "# design_matrix['is_Med'] = 0\n",
        "# design_matrix.loc[design_matrix['Education'].isin(Med), 'is_Med'] = 1\n",
        "# design_matrix['is_Psy'] = 0\n",
        "# design_matrix.loc[design_matrix['Education'].isin(Psy), 'is_Psy'] = 1\n",
        "\n",
        "design_matrix['edu_hs'] = 0\n",
        "design_matrix.loc[design_matrix['Education'].isin(HighSchool), 'edu_hs'] = 1\n",
        "design_matrix['edu_ba'] = 0\n",
        "design_matrix.loc[design_matrix['Education'].isin(BA), 'edu_ba'] = 1\n",
        "design_matrix['edu_ma'] = 0\n",
        "design_matrix.loc[design_matrix['Education'].isin(Master), 'edu_ma'] = 1\n",
        "design_matrix['edu_phd'] = 0\n",
        "design_matrix.loc[design_matrix['Education'].isin(PhD), 'edu_phd'] = 1"
      ],
      "execution_count": 0,
      "outputs": []
    },
    {
      "cell_type": "markdown",
      "metadata": {
        "id": "_fSB4QLIVSPP",
        "colab_type": "text"
      },
      "source": [
        "iii. Convert Ethnicity"
      ]
    },
    {
      "cell_type": "code",
      "metadata": {
        "id": "uFDSHpkdVVos",
        "colab_type": "code",
        "colab": {}
      },
      "source": [
        "design_matrix['Ethnicity'].unique()"
      ],
      "execution_count": 0,
      "outputs": []
    },
    {
      "cell_type": "code",
      "metadata": {
        "id": "BHuL-oyvWQbz",
        "colab_type": "code",
        "colab": {}
      },
      "source": [
        "design_matrix['is_wht'] = 0\n",
        "design_matrix.loc[design_matrix['Ethnicity'] == 'White', 'is_wht'] = 1\n",
        "design_matrix['is_hsp_other'] = 0\n",
        "design_matrix.loc[design_matrix['Ethnicity'] == 'Hispanic/Other', 'is_hsp_other'] = 1\n",
        "design_matrix['is_blk'] = 0\n",
        "design_matrix.loc[design_matrix['Ethnicity'] == 'Black', 'is_blk'] = 1\n",
        "design_matrix['is_hsp_caucasian'] = 0\n",
        "design_matrix.loc[design_matrix['Ethnicity'] == 'Hispanic/Caucasian', 'is_hsp_caucasian'] = 1\n",
        "design_matrix['is_birace'] = 0\n",
        "design_matrix.loc[design_matrix['Ethnicity'].isin(['Biracial', 'More than 1 race']), 'is_birace'] = 1\n",
        "design_matrix['is_hsp'] = 0\n",
        "design_matrix.loc[design_matrix['Ethnicity'] == 'Hispanic', 'is_hsp'] = 1\n",
        "design_matrix['is_asn'] = 0\n",
        "design_matrix.loc[design_matrix['Ethnicity'] == 'Asian', 'is_asn'] = 1\n",
        "design_matrix['is_white_pacific'] = 0\n",
        "design_matrix.loc[design_matrix['Ethnicity'] == 'White/Pacific Islander', 'is_white_pacific'] = 1\n",
        "design_matrix['is_hwi'] = 0\n",
        "design_matrix.loc[design_matrix['Ethnicity'] == 'Native Hawaiian/Pacific Islander', 'is_hwi'] = 1"
      ],
      "execution_count": 0,
      "outputs": []
    },
    {
      "cell_type": "markdown",
      "metadata": {
        "id": "t4zavRb-XlFH",
        "colab_type": "text"
      },
      "source": [
        "iv. Sex"
      ]
    },
    {
      "cell_type": "code",
      "metadata": {
        "id": "--NZ-MC-XoFM",
        "colab_type": "code",
        "colab": {}
      },
      "source": [
        "design_matrix['Sex'].unique()"
      ],
      "execution_count": 0,
      "outputs": []
    },
    {
      "cell_type": "code",
      "metadata": {
        "id": "mhwyK7r0XunJ",
        "colab_type": "code",
        "colab": {}
      },
      "source": [
        "design_matrix['is_female'] = 0\n",
        "design_matrix.loc[design_matrix['Sex'] == 'Female', 'is_female'] = 1"
      ],
      "execution_count": 0,
      "outputs": []
    },
    {
      "cell_type": "markdown",
      "metadata": {
        "id": "TR6b6UPwX3ch",
        "colab_type": "text"
      },
      "source": [
        "v. Marital_Status"
      ]
    },
    {
      "cell_type": "code",
      "metadata": {
        "id": "Cn-6609MX8ip",
        "colab_type": "code",
        "colab": {}
      },
      "source": [
        "design_matrix['Marital_Status'].unique()"
      ],
      "execution_count": 0,
      "outputs": []
    },
    {
      "cell_type": "code",
      "metadata": {
        "id": "QIn2ATMeYFYN",
        "colab_type": "code",
        "colab": {}
      },
      "source": [
        "design_matrix['is_married'] = 0\n",
        "design_matrix.loc[design_matrix['Marital_Status'] == 'Married', 'is_married'] = 1\n",
        "design_matrix['is_divorced'] = 0\n",
        "design_matrix.loc[design_matrix['Marital_Status'] == 'Divorced', 'is_divorced'] = 1\n",
        "design_matrix['is_single'] = 0\n",
        "design_matrix.loc[design_matrix['Marital_Status'] == 'Single', 'is_single'] = 1\n",
        "design_matrix['is_widowed'] = 0\n",
        "design_matrix.loc[design_matrix['Marital_Status'] == 'Widowed', 'is_widowed'] = 1\n",
        "design_matrix['is_with_partner'] = 0\n",
        "design_matrix.loc[design_matrix['Marital_Status'] == 'Living with partner', 'is_with_partner'] = 1"
      ],
      "execution_count": 0,
      "outputs": []
    },
    {
      "cell_type": "markdown",
      "metadata": {
        "id": "lEb_qJAvYgBg",
        "colab_type": "text"
      },
      "source": [
        "vi. Household_income"
      ]
    },
    {
      "cell_type": "code",
      "metadata": {
        "id": "XbNAloOlYfD0",
        "colab_type": "code",
        "colab": {}
      },
      "source": [
        "design_matrix['Household_income'].unique()"
      ],
      "execution_count": 0,
      "outputs": []
    },
    {
      "cell_type": "code",
      "metadata": {
        "id": "UoKYDC4vY3Mx",
        "colab_type": "code",
        "colab": {}
      },
      "source": [
        "design_matrix['income'] = 0\n",
        "design_matrix.loc[design_matrix['Household_income'] == '$10,000-$19,999', 'income'] = 1\n",
        "design_matrix.loc[design_matrix['Household_income'] == '$20,000-$29,999', 'income'] = 2\n",
        "design_matrix.loc[design_matrix['Household_income'] == '$30,000-$39,999', 'income'] = 3\n",
        "design_matrix.loc[design_matrix['Household_income'] == '$40,000-$49,999', 'income'] = 4\n",
        "design_matrix.loc[design_matrix['Household_income'] == '$50,000-$59,999', 'income'] = 5\n",
        "design_matrix.loc[design_matrix['Household_income'] == '$60,000-$69,999', 'income'] = 6\n",
        "design_matrix.loc[design_matrix['Household_income'] == '$70,000-$79,999', 'income'] = 7\n",
        "design_matrix.loc[design_matrix['Household_income'] == '$80,000-$89,999', 'income'] = 8\n",
        "design_matrix.loc[design_matrix['Household_income'] == '$90,000-$99,999', 'income'] = 9\n",
        "design_matrix.loc[design_matrix['Household_income'] == '$100,000-$109,999', 'income'] = 10\n",
        "design_matrix.loc[design_matrix['Household_income'] == '$110,000-$119,999', 'income'] = 11\n",
        "design_matrix.loc[design_matrix['Household_income'] == '$120,000-$129,999', 'income'] = 12\n",
        "design_matrix.loc[design_matrix['Household_income'] == '$130,000-$139,000', 'income'] = 13\n",
        "design_matrix.loc[design_matrix['Household_income'] == '$140,000-$149,999', 'income'] = 14\n",
        "design_matrix.loc[design_matrix['Household_income'].isin(['$150,000 or more ','$150,000 or more']), 'income'] = 15"
      ],
      "execution_count": 0,
      "outputs": []
    },
    {
      "cell_type": "markdown",
      "metadata": {
        "colab_type": "text",
        "id": "LwB2NAPGssuN"
      },
      "source": [
        "vii. Medications"
      ]
    },
    {
      "cell_type": "code",
      "metadata": {
        "colab_type": "code",
        "id": "gklgshIusrMb",
        "colab": {}
      },
      "source": [
        "design_matrix['Medications'].unique()"
      ],
      "execution_count": 0,
      "outputs": []
    },
    {
      "cell_type": "code",
      "metadata": {
        "id": "Q19q1eaVZ_GY",
        "colab_type": "code",
        "colab": {}
      },
      "source": [
        "design_matrix['have_med'] = 1\n",
        "design_matrix.loc[design_matrix['Medications'] == 'None', 'have_med'] = 0"
      ],
      "execution_count": 0,
      "outputs": []
    },
    {
      "cell_type": "markdown",
      "metadata": {
        "id": "IIKQG01HaLuq",
        "colab_type": "text"
      },
      "source": [
        "viii. Exp"
      ]
    },
    {
      "cell_type": "code",
      "metadata": {
        "id": "JYcRNpc0Bt7f",
        "colab_type": "code",
        "colab": {}
      },
      "source": [
        "# 'DND' = 0, 'ROO' = 1\n",
        "design_matrix['exp'] = 1\n",
        "design_matrix.loc[design_matrix['experiment'] == 'DND', 'exp'] = 0"
      ],
      "execution_count": 0,
      "outputs": []
    },
    {
      "cell_type": "code",
      "metadata": {
        "id": "uSDQo_nOvvIC",
        "colab_type": "code",
        "colab": {}
      },
      "source": [
        "a = [1,2,3]\n",
        "a.remove(2)\n",
        "a"
      ],
      "execution_count": 0,
      "outputs": []
    },
    {
      "cell_type": "code",
      "metadata": {
        "id": "8e-7K11vCP_m",
        "colab_type": "code",
        "colab": {}
      },
      "source": [
        "# Update Feature Cols\n",
        "\n",
        "features_common = ['step_max', 'step_min', 'step_median', \n",
        "       \n",
        "       'steps_max_3h', 'steps_min_3h', 'steps_mean_3h', 'steps_var_3h', 'steps_median_3h', \n",
        "       'move_rate_3h', 'active_rate_3h', 'very_active_rate_3h', 'running_rate_3h',\n",
        "       \n",
        "       'steps_max_1h', 'steps_min_1h', 'steps_mean_1h', 'steps_var_1h', 'steps_median_1h', \n",
        "       'move_rate_1h', 'active_rate_1h', 'very_active_rate_1h', 'running_rate_1h', \n",
        "       \n",
        "       'steps_max_30m', 'steps_min_30m', 'steps_mean_30m', 'steps_var_30m', 'steps_median_30m', \n",
        "       'move_rate_30m', 'active_rate_30m', 'very_active_rate_30m', 'running_rate_30m', \n",
        "       \n",
        "       'steps_max_10m', 'steps_min_10m', 'steps_mean_10m', 'steps_var_10m', 'steps_median_10m', \n",
        "       'move_rate_10m', 'active_rate_10m', 'very_active_rate_10m', 'running_rate_10m', \n",
        "       \n",
        "       'steps_max_5m', 'steps_min_5m', 'steps_mean_5m', 'steps_var_5m', 'steps_median_5m',\n",
        "       'move_rate_5m', 'active_rate_5m', 'very_active_rate_5m', 'running_rate_5m', \n",
        "       \n",
        "       'hr_max', 'hr_min', 'hr_med',\n",
        "       \n",
        "       'SDNN_3h', 'pHR2_3h', 'rMSSD_3h', 'low_hr_3h', 'high_hr_3h', 'l_h_3h', 'CR_3h', 'hr_mean_3h', \n",
        "       'hr_var_3h', 'hr_std_3h', 'hr_median_3h', 'hr_rest_rate_3h', 'hr_moderate_rate_3h',\n",
        "       'hr_very_active_rate_3h', \n",
        "       \n",
        "       'SDNN_1h', 'pHR2_1h', 'rMSSD_1h', 'low_hr_1h', 'high_hr_1h', 'l_h_1h', 'CR_1h', 'hr_mean_1h',\n",
        "       'hr_var_1h', 'hr_std_1h', 'hr_median_1h', 'hr_rest_rate_1h',\n",
        "       'hr_moderate_rate_1h', 'hr_very_active_rate_1h', \n",
        "       \n",
        "       'SDNN_30m', 'pHR2_30m', 'rMSSD_30m', 'low_hr_30m', 'high_hr_30m', 'l_h_30m', 'CR_30m', 'hr_mean_30m', \n",
        "       'hr_var_30m', 'hr_std_30m', 'hr_median_30m', 'hr_rest_rate_30m', \n",
        "       'hr_moderate_rate_30m', 'hr_very_active_rate_30m', \n",
        "       \n",
        "       'SDNN_10m', 'pHR2_10m', 'rMSSD_10m', 'low_hr_10m', 'high_hr_10m', 'l_h_10m', 'CR_10m', 'hr_mean_10m',\n",
        "       'hr_var_10m', 'hr_std_10m', 'hr_median_10m', 'hr_rest_rate_10m',\n",
        "       'hr_moderate_rate_10m', 'hr_very_active_rate_10m', \n",
        "       \n",
        "       'SDNN_5m', 'pHR2_5m', 'rMSSD_5m', 'low_hr_5m', 'high_hr_5m', 'l_h_5m',\n",
        "       'CR_5m', 'hr_mean_5m', 'hr_var_5m', 'hr_std_5m', 'hr_median_5m',\n",
        "       'hr_rest_rate_5m', 'hr_moderate_rate_5m', 'hr_very_active_rate_5m',\n",
        "       \n",
        "       'hr_0', 'hr_0.3', 'hr_0.5', 'hr_0.8', 'hr_1', \n",
        "       \n",
        "       'SBQ', 'FTP', 'SWLS', 'Neuroticism', 'Extraversion', 'Conscientiousness',\n",
        "       'NS_total', 'BIS_total', 'BIS.5', 'BAS_D', 'BAS_FS', 'BAS_RR',\n",
        "       'HAP_actual', 'P_actual', 'LAP_actual', 'LA_actual', 'LAN_actual',\n",
        "       'N_actual', 'HAN_actual', 'HA_actual', 'HAP_ideal', 'P_ideal',\n",
        "       'LAP_ideal', 'LA_ideal', 'LAN_ideal', 'N_ideal', 'HAN_ideal',\n",
        "       'HA_ideal', 'survey_hour'\n",
        "       \n",
        "       ]\n",
        "\n",
        "features_lite = ['step_max', 'step_min', 'step_median', \n",
        "       \n",
        "      #  'steps_max_3h', 'steps_min_3h', 'steps_mean_3h', 'steps_var_3h', 'steps_median_3h', \n",
        "      #  'move_rate_3h', 'active_rate_3h', 'very_active_rate_3h', 'running_rate_3h',\n",
        "       \n",
        "       'steps_max_1h', 'steps_min_1h', \n",
        "       'steps_var_1h', 'steps_median_1h', \n",
        "       'active_rate_1h', 'running_rate_1h',  \n",
        "       #'move_rate_1h', 'very_active_rate_1h', 'steps_mean_1h', \n",
        "       \n",
        "      #  'steps_max_30m', 'steps_min_30m', 'steps_mean_30m', 'steps_var_30m', 'steps_median_30m', \n",
        "      #  'move_rate_30m', 'active_rate_30m', 'very_active_rate_30m', 'running_rate_30m', \n",
        "       \n",
        "       'steps_max_10m', 'steps_min_10m', \n",
        "       'steps_var_10m', 'steps_median_10m', \n",
        "       'move_rate_10m', \n",
        "       # 'very_active_rate_10m', 'active_rate_10m', 'steps_mean_10m',\n",
        "       'running_rate_10m', \n",
        "       \n",
        "      #  'steps_max_5m', 'steps_min_5m', 'steps_mean_5m', 'steps_var_5m', 'steps_median_5m',\n",
        "      #  'move_rate_5m', 'active_rate_5m', 'very_active_rate_5m', 'running_rate_5m', \n",
        "       \n",
        "       'hr_max', 'hr_min', 'hr_med',\n",
        "       \n",
        "       'SDNN_3h', 'pHR2_3h', 'rMSSD_3h', 'low_hr_3h', 'high_hr_3h', 'l_h_3h', 'CR_3h', \n",
        "      #  'hr_mean_3h', \n",
        "      #  'hr_var_3h', 'hr_std_3h', 'hr_median_3h', 'hr_rest_rate_3h', 'hr_moderate_rate_3h',\n",
        "      #  'hr_very_active_rate_3h', \n",
        "       \n",
        "       'SDNN_1h', 'pHR2_1h', 'high_hr_1h', 'l_h_1h', 'hr_mean_1h',\n",
        "       #'rMSSD_1h', 'low_hr_1h', 'CR_1h', 'hr_median_1h', 'hr_var_1h', \n",
        "       'hr_std_1h', 'hr_rest_rate_1h',\n",
        "       'hr_moderate_rate_1h', 'hr_very_active_rate_1h', \n",
        "       \n",
        "       'SDNN_30m', 'pHR2_30m', 'rMSSD_30m', 'low_hr_30m', 'high_hr_30m', 'l_h_30m', 'CR_30m', \n",
        "      #  'hr_mean_30m', \n",
        "      #  'hr_var_30m', 'hr_std_30m', 'hr_median_30m', 'hr_rest_rate_30m', \n",
        "      #  'hr_moderate_rate_30m', 'hr_very_active_rate_30m', \n",
        "       \n",
        "       'SDNN_10m', 'pHR2_10m', 'rMSSD_10m', 'l_h_10m', \n",
        "       # 'hr_mean_10m', 'hr_var_10m', 'hr_median_10m', 'low_hr_10m', 'high_hr_10m', 'CR_10m', \n",
        "       'hr_std_10m',  'hr_rest_rate_10m',\n",
        "       'hr_moderate_rate_10m', 'hr_very_active_rate_10m', \n",
        "       \n",
        "       'SDNN_5m', 'pHR2_5m', 'rMSSD_5m', 'low_hr_5m', 'high_hr_5m', 'l_h_5m',\n",
        "       'CR_5m', \n",
        "      #  'hr_mean_5m', 'hr_var_5m', 'hr_std_5m', 'hr_median_5m',\n",
        "      #  'hr_rest_rate_5m', 'hr_moderate_rate_5m', 'hr_very_active_rate_5m',\n",
        "       \n",
        "       'hr_0', 'hr_0.3', 'hr_0.8', 'hr_1', # 'hr_0.5',\n",
        "       \n",
        "       'SBQ', 'SWLS', 'Neuroticism', 'Extraversion', \n",
        "       'NS_total', 'BIS_total', 'BIS.5', 'BAS_D', 'BAS_FS', 'BAS_RR',\n",
        "      # 'FTP', 'Conscientiousness',\n",
        "      #  'HAP_actual', 'P_actual', 'LAP_actual', 'LA_actual', 'LAN_actual',\n",
        "      #  'N_actual', 'HAN_actual', 'HA_actual', 'HAP_ideal', 'P_ideal',\n",
        "      #  'LAP_ideal', 'LA_ideal', 'LAN_ideal', 'N_ideal', 'HAN_ideal',\n",
        "      #  'HA_ideal', \n",
        "      'survey_hour'\n",
        "       \n",
        "       ]\n",
        "\n",
        "\n",
        "feature_encode = ['exp', 'income', 'have_med', 'is_female',\n",
        "                'is_married', 'is_divorced', 'is_single', 'is_widowed', \n",
        "                'is_with_partner', 'is_wht', 'is_hsp_other', 'is_blk', \n",
        "                'is_hsp_caucasian', 'is_birace', 'is_hsp', 'is_asn', \n",
        "                'is_white_pacific', 'is_hwi', 'edu_hs', 'edu_ba', 'edu_ma', \n",
        "                'edu_phd']\n",
        "feature_ca = ['Education', 'Ethnicity', 'Sex', 'Marital_Status','Children', \n",
        "              'Household_income', 'Age', 'BMI', 'Medications', 'survey_hour',\n",
        "              'experiment' ]\n",
        "feature_num = features_common + feature_encode\n",
        "feature_num_lite = features_lite + feature_encode\n",
        "feature_cols_ca = features_common + feature_ca"
      ],
      "execution_count": 0,
      "outputs": []
    },
    {
      "cell_type": "markdown",
      "metadata": {
        "id": "Sp0WCE_LCg3C",
        "colab_type": "text"
      },
      "source": [
        "### (4) Detect Correlation"
      ]
    },
    {
      "cell_type": "code",
      "metadata": {
        "id": "aI7WCTQPCkBQ",
        "colab_type": "code",
        "colab": {}
      },
      "source": [
        "corr_matrix = design_matrix[feature_cols_update].corr()"
      ],
      "execution_count": 0,
      "outputs": []
    },
    {
      "cell_type": "code",
      "metadata": {
        "id": "qBRi7flaDJIr",
        "colab_type": "code",
        "colab": {}
      },
      "source": [
        "corr_matrix_df = pd.DataFrame(corr_matrix.unstack())\n",
        "corr_matrix_df.columns = ['corr']"
      ],
      "execution_count": 0,
      "outputs": []
    },
    {
      "cell_type": "code",
      "metadata": {
        "id": "HzuKNNSPEozp",
        "colab_type": "code",
        "colab": {}
      },
      "source": [
        "# Filter pairs which are highly correlated\n",
        "corr_matrix_df[(corr_matrix_df['corr'] > 0.9) & (corr_matrix_df['corr'] < 1)]"
      ],
      "execution_count": 0,
      "outputs": []
    },
    {
      "cell_type": "markdown",
      "metadata": {
        "id": "Pi2zW61PFIby",
        "colab_type": "text"
      },
      "source": [
        "As we can see, the correlation exist in 'mean' and 'median' fetaures, 'var' and 'std' features. Let's get rid of them by changing feature columns."
      ]
    },
    {
      "cell_type": "code",
      "metadata": {
        "id": "y1igpt8rFWu6",
        "colab_type": "code",
        "colab": {}
      },
      "source": [
        "feature_cols = ['hr_mean_3h', 'hr_std_3h', 'hr_rest_rate_3h', \n",
        "                'hr_mean_1h', 'hr_std_1h', 'hr_rest_rate_1h', \n",
        "                'hr_std_30m', 'hr_very_active_rate_30m', \n",
        "                'hr_mean_10m', 'hr_std_10m', 'hr_rest_rate_10m', 'hr_very_active_rate_10m',\n",
        "                'steps_mean_3h', 'steps_var_3h', 'active_rate_3h',\n",
        "                'steps_var_1h', 'very_active_rate_1h', \n",
        "                'steps_mean_30m', 'steps_var_30m', 'active_rate_30m', \n",
        "                'steps_var_10m', 'move_rate_10m', 'very_active_rate_10m', \n",
        "                'SBQ',  'SWLS', \n",
        "                'NS_total', 'BIS_total', 'BIS.5', 'BAS_D',\n",
        "                'BAS_FS', 'BAS_RR', 'HAP_actual', \n",
        "                'LA_actual', 'LAN_actual', 'N_actual', 'HAN_actual', 'HA_actual',\n",
        "                'P_ideal', 'LAN_ideal',\n",
        "                'HAN_ideal', 'HA_ideal', 'Children', 'Age',\n",
        "                'BMI',\n",
        "                'exp', 'income', 'have_med', 'is_female',\n",
        "                'is_married', 'is_divorced', 'is_single', 'is_widowed', 'is_with_partner',\n",
        "                'is_wht', 'is_hsp_other', 'is_blk', 'is_hsp_caucasian', 'is_birace', 'is_hsp', 'is_asn', 'is_white_pacific', 'is_hwi',\n",
        "                'is_MBA', 'is_Art', 'is_Med', 'is_Psy', 'edu_hs', 'edu_ba', 'edu_ma', 'edu_phd',\n",
        "                'survey_hour'\n",
        "                # , 'Conscientiousness', 'HAP_ideal', 'LAP_ideal', 'P_actual', 'LAP_actual', 'FTP', 'Neuroticism', 'Extraversion', 'LA_ideal', 'N_ideal', \n",
        "                ]\n",
        "\n",
        "# feature_cols_update"
      ],
      "execution_count": 0,
      "outputs": []
    },
    {
      "cell_type": "code",
      "metadata": {
        "id": "W7NTHzhTn7ft",
        "colab_type": "code",
        "colab": {}
      },
      "source": [
        "# Check correlation again\n",
        "corr_matrix = design_matrix[feature_num_lite].corr()\n",
        "corr_matrix_df = pd.DataFrame(corr_matrix.unstack())\n",
        "corr_matrix_df.columns = ['corr']\n",
        "# Filter pairs which are highly correlated\n",
        "corr_matrix_df[(corr_matrix_df['corr'] > 0.9) & (corr_matrix_df['corr'] < 1)]"
      ],
      "execution_count": 0,
      "outputs": []
    },
    {
      "cell_type": "markdown",
      "metadata": {
        "id": "v04LnQ9qAp-Y",
        "colab_type": "text"
      },
      "source": [
        "### (5) Split the Data by Subject"
      ]
    },
    {
      "cell_type": "code",
      "metadata": {
        "id": "OgrhV9etAEZX",
        "colab_type": "code",
        "colab": {}
      },
      "source": [
        "# Grouped Data-Split, by subject, prevent information leakage\n",
        "X = design_matrix[feature_num_lite]\n",
        "X['intercept'] = 1\n",
        "y = design_matrix['pn_raw']\n",
        "group = design_matrix['subject'].values\n",
        "gkf_modeling = list(GroupKFold(n_splits=4).split(X,y,group))\n",
        "\n",
        "X_train = X.iloc[gkf_modeling[0][0],]\n",
        "X_test = X.iloc[gkf_modeling[0][1],]\n",
        "y_train = y.iloc[gkf_modeling[0][0],]\n",
        "y_test = y.iloc[gkf_modeling[0][1],]"
      ],
      "execution_count": 0,
      "outputs": []
    },
    {
      "cell_type": "markdown",
      "metadata": {
        "id": "kuah5jElRycq",
        "colab_type": "text"
      },
      "source": [
        "### (6) Split the Data by Stratification"
      ]
    },
    {
      "cell_type": "code",
      "metadata": {
        "id": "BBEj69PwR3v4",
        "colab_type": "code",
        "colab": {}
      },
      "source": [
        "# Grouped Data-Split, by subject, prevent information leakage\n",
        "X = design_matrix[feature_num_lite]\n",
        "y = design_matrix['pn_raw']\n",
        "X_ran_train, X_ran_test, y_ran_train, y_ran_test = train_test_split(X, y, test_size=0.25, random_state=27)"
      ],
      "execution_count": 0,
      "outputs": []
    },
    {
      "cell_type": "markdown",
      "metadata": {
        "id": "KcxjHG_UI07B",
        "colab_type": "text"
      },
      "source": [
        "### (7) Scale the Data"
      ]
    },
    {
      "cell_type": "code",
      "metadata": {
        "id": "9omLEDr6I3vm",
        "colab_type": "code",
        "colab": {}
      },
      "source": [
        "scaler = preprocessing.StandardScaler().fit(X_train)\n",
        "X_train_scaled = scaler.transform(X_train)\n",
        "X_test_scaled = scaler.transform(X_test)"
      ],
      "execution_count": 0,
      "outputs": []
    },
    {
      "cell_type": "markdown",
      "metadata": {
        "id": "xRsVkslUMRXH",
        "colab_type": "text"
      },
      "source": [
        "## 4.Cross Validation"
      ]
    },
    {
      "cell_type": "markdown",
      "metadata": {
        "id": "1SqCa8RONA07",
        "colab_type": "text"
      },
      "source": [
        "### (1) Scoring criteria\n",
        "\n",
        "All available scoring criteria can be found here: https://scikit-learn.org/stable/modules/model_evaluation.html"
      ]
    },
    {
      "cell_type": "code",
      "metadata": {
        "id": "jVhCM-2rNcD6",
        "colab_type": "code",
        "colab": {}
      },
      "source": [
        "scoring = {\n",
        "    # 'explained_variance': 'explained_variance',\n",
        "    'r2': 'r2',\n",
        "    'rmse':'neg_root_mean_squared_error'\n",
        "}"
      ],
      "execution_count": 0,
      "outputs": []
    },
    {
      "cell_type": "markdown",
      "metadata": {
        "id": "Q22nbTJ1NffR",
        "colab_type": "text"
      },
      "source": [
        "### (2) Tools for evaluate results"
      ]
    },
    {
      "cell_type": "code",
      "metadata": {
        "id": "jdrmshdfMuuw",
        "colab_type": "code",
        "colab": {}
      },
      "source": [
        "def avg_dict(dict):\n",
        "  avgDict = {}\n",
        "  for k,v in dict.items():\n",
        "      avgDict[k] = sum(v)/ float(len(v))\n",
        "  return avgDict"
      ],
      "execution_count": 0,
      "outputs": []
    },
    {
      "cell_type": "markdown",
      "metadata": {
        "id": "4g1slYd9Np0N",
        "colab_type": "text"
      },
      "source": [
        "### (3) Cross Validation\n",
        "\n",
        "Ref: https://stackoverflow.com/questions/35876508/evaluate-multiple-scores-on-sklearn-cross-val-score"
      ]
    },
    {
      "cell_type": "code",
      "metadata": {
        "id": "pw742SPbM0oM",
        "colab_type": "code",
        "colab": {}
      },
      "source": [
        "from sklearn.model_selection import cross_validate, cross_val_score, cross_val_predict\n",
        "from sklearn import metrics, svm\n",
        "from sklearn.neighbors import KNeighborsRegressor\n",
        "from sklearn.tree import DecisionTreeRegressor\n",
        "# Information about scoring metrics\n",
        "models = [LinearRegression(), Ridge(), Lasso(), svm.SVR(), BayesianRidge(), SGDRegressor(), \n",
        "          KNeighborsRegressor(n_neighbors=10), DecisionTreeRegressor()]\n",
        "model_names = ['Linear', 'Ridge', 'Lasso', 'svm', 'BayesianRidge', 'SGDRegressor', 'KNN', 'DecisionTreeRegressor']\n",
        "\n",
        "for model, name in zip(models, model_names):\n",
        "  print(name)\n",
        "  scores = cross_validate(model, X, y, cv=6, scoring=scoring)\n",
        "  print(avg_dict(scores))"
      ],
      "execution_count": 0,
      "outputs": []
    },
    {
      "cell_type": "markdown",
      "metadata": {
        "id": "Owws_O9DAi2c",
        "colab_type": "text"
      },
      "source": [
        "## 5.Baseline Model - Linear Regression"
      ]
    },
    {
      "cell_type": "markdown",
      "metadata": {
        "id": "ElTa84U6JZoo",
        "colab_type": "text"
      },
      "source": [
        "### (1) Modeling"
      ]
    },
    {
      "cell_type": "code",
      "metadata": {
        "colab_type": "code",
        "id": "8Yl4V31RC_NR",
        "colab": {}
      },
      "source": [
        "linear_model_1 = sm.OLS(y_train, X_train_scaled).fit()"
      ],
      "execution_count": 0,
      "outputs": []
    },
    {
      "cell_type": "markdown",
      "metadata": {
        "id": "panFPH50JoQC",
        "colab_type": "text"
      },
      "source": [
        "### (2) Prediction"
      ]
    },
    {
      "cell_type": "code",
      "metadata": {
        "id": "wY_LhIVCBfrX",
        "colab_type": "code",
        "colab": {}
      },
      "source": [
        "linear_pred = linear_model_1.predict(X_test_scaled)"
      ],
      "execution_count": 0,
      "outputs": []
    },
    {
      "cell_type": "markdown",
      "metadata": {
        "id": "aqK9NqodKqsr",
        "colab_type": "text"
      },
      "source": [
        "### (3) Evaluation"
      ]
    },
    {
      "cell_type": "markdown",
      "metadata": {
        "id": "KFu2_XFC7-y4",
        "colab_type": "text"
      },
      "source": [
        "i. Model Summary"
      ]
    },
    {
      "cell_type": "code",
      "metadata": {
        "id": "pOVs0AKVJmY9",
        "colab_type": "code",
        "colab": {}
      },
      "source": [
        "linear_model_1.summary()"
      ],
      "execution_count": 0,
      "outputs": []
    },
    {
      "cell_type": "markdown",
      "metadata": {
        "id": "-ah-u2DR8A2p",
        "colab_type": "text"
      },
      "source": [
        "ii. Prediction Evaluation"
      ]
    },
    {
      "cell_type": "code",
      "metadata": {
        "id": "9PBGN_9e8Hcp",
        "colab_type": "code",
        "colab": {}
      },
      "source": [
        "# RMSE\n",
        "np.sqrt(np.mean((linear_pred - y_test)**2))"
      ],
      "execution_count": 0,
      "outputs": []
    },
    {
      "cell_type": "markdown",
      "metadata": {
        "id": "lERv-yg-8lwZ",
        "colab_type": "text"
      },
      "source": [
        "iii. Prediction vs True Label"
      ]
    },
    {
      "cell_type": "code",
      "metadata": {
        "id": "iS3N-S_K8q8P",
        "colab_type": "code",
        "colab": {}
      },
      "source": [
        "def plot_pred_truth(y_test, y_pred):\n",
        "  plt.figure(figsize=(12,6))\n",
        "  plt.scatter(y_test, y_pred)\n",
        "  plt.title('Prediction vs Ground Truth')\n",
        "  plt.ylabel('Prediction')\n",
        "  plt.xlabel('Valence')\n",
        "\n",
        "plot_pred_truth(y_test, linear_pred)"
      ],
      "execution_count": 0,
      "outputs": []
    },
    {
      "cell_type": "markdown",
      "metadata": {
        "id": "oLXtM1JC9ZYI",
        "colab_type": "text"
      },
      "source": [
        "iv. Convert the Regression Result to Classification"
      ]
    },
    {
      "cell_type": "code",
      "metadata": {
        "id": "QsAs9MJD-KaW",
        "colab_type": "code",
        "colab": {}
      },
      "source": [
        "def reg_to_class(pred):\n",
        "  '''\n",
        "  This function converts regression results to classification.\n",
        "\n",
        "  Parameters:\n",
        "  pred (array):     regression results to be converted to classification labels\n",
        "\n",
        "  Returns:\n",
        "  Converted classification results\n",
        "  '''\n",
        "  return [0 if x < 0 else 1 for x in pred]\n",
        "\n",
        "linear_pred_class = reg_to_class(linear_pred)\n",
        "y_test_class = reg_to_class(y_test)"
      ],
      "execution_count": 0,
      "outputs": []
    },
    {
      "cell_type": "code",
      "metadata": {
        "id": "x2rR9DPzKtqT",
        "colab_type": "code",
        "colab": {}
      },
      "source": [
        "def eval_class(y_test, y_pred):\n",
        "  '''\n",
        "  This function evaluates the model performance\n",
        "  in terms of Accuracy, Recall, Precision, Specificity and F1\n",
        "  \n",
        "  Parameters:\n",
        "  y_test (array):     Test label\n",
        "  y_pred (array):     Model prediction\n",
        "\n",
        "  Returns:\n",
        "  Evaluation information printed\n",
        "  '''\n",
        "  # Accuracy\n",
        "  print('Accuracy: \\t', str(accuracy_score(y_test, y_pred)))\n",
        "  # Recall\n",
        "  print('Recall: \\t', str(recall_score(y_test, y_pred)))\n",
        "  # Precision\n",
        "  print('Precision: \\t', str(precision_score(y_test, y_pred)))\n",
        "  # Specificity\n",
        "  tn, fp, fn, tp = confusion_matrix(y_test, y_pred).ravel()\n",
        "  print('Specificity: \\t', str(tn / (tn+fp)))\n",
        "  # F1\n",
        "  print('F1: \\t\\t', str(f1_score(y_test, y_pred)))"
      ],
      "execution_count": 0,
      "outputs": []
    },
    {
      "cell_type": "code",
      "metadata": {
        "id": "rj_IEevcNc4o",
        "colab_type": "code",
        "colab": {}
      },
      "source": [
        "def plot_roc(y_test,  prob, model_type):\n",
        "  '''\n",
        "  This function plots roc curve for classfication algotrithms.\n",
        "  \n",
        "  Parameters:\n",
        "  y_test (array):       Test label\n",
        "  prob (array):         Model prediction of probability for binary class\n",
        "  model_type (string):  Model names\n",
        "\n",
        "  Returns: \n",
        "  RoC plot\n",
        "  '''\n",
        "  preds = prob[:,1]\n",
        "  fpr, tpr, threshold = roc_curve(y_test, preds)\n",
        "  roc_auc = auc(fpr, tpr)\n",
        "  if roc_auc < 0.5:\n",
        "    preds = prob[:,0]\n",
        "    fpr, tpr, threshold = roc_curve(y_test, preds)\n",
        "    roc_auc = auc(fpr, tpr)\n",
        "  # Plot\n",
        "  plt.title(model_type+ ' for Emotion Classification')\n",
        "  plt.plot(fpr, tpr, 'b', label = 'AUC = %0.2f' % roc_auc)\n",
        "  plt.legend(loc = 'lower right')\n",
        "  plt.plot([0, 1], [0, 1],'r--')\n",
        "  plt.xlim([0, 1])\n",
        "  plt.ylim([0, 1])\n",
        "  plt.ylabel('True Positive Rate')\n",
        "  plt.xlabel('False Positive Rate')\n",
        "  plt.show()"
      ],
      "execution_count": 0,
      "outputs": []
    },
    {
      "cell_type": "code",
      "metadata": {
        "id": "6dADIYkCgt6W",
        "colab_type": "code",
        "colab": {}
      },
      "source": [
        "def confision_matrix(y_test, y_pred, model_type):\n",
        "  '''\n",
        "  This function plots confision matrix for classfication algotrithms.\n",
        "  \n",
        "  Parameters:\n",
        "  y_test (array):     Test label\n",
        "  y_pred (array):     Model prediction\n",
        "  model_type (string):  Model names\n",
        "\n",
        "  Returns: \n",
        "  Confusion Matrix plot\n",
        "  '''\n",
        "  cm_2 = confusion_matrix(y_test, y_pred) \n",
        "  cm_2_df = pd.DataFrame(cm_2)\n",
        "\n",
        "  plt.figure(figsize=(5.5,4))\n",
        "  sns.heatmap(cm_2_df, annot=True)\n",
        "  accuracy = accuracy_score(y_test, y_pred)\n",
        "  plt.title(model_type + ' \\nAccuracy:{0:.3f}'.format(accuracy))\n",
        "  plt.ylabel('True label')\n",
        "  plt.xlabel('Predicted label')\n",
        "  plt.show()"
      ],
      "execution_count": 0,
      "outputs": []
    },
    {
      "cell_type": "code",
      "metadata": {
        "id": "4m8Cq2AnOvV3",
        "colab_type": "code",
        "colab": {}
      },
      "source": [
        "# plot_roc(y_test, logistic_pred_probs, 'Linear Regression')\n",
        "confision_matrix(y_test_class, linear_pred_class, 'Logistic Regression')"
      ],
      "execution_count": 0,
      "outputs": []
    },
    {
      "cell_type": "code",
      "metadata": {
        "id": "uS8HoqynQ4hE",
        "colab_type": "code",
        "colab": {}
      },
      "source": [
        "eval_class(y_test_class, linear_pred_class)"
      ],
      "execution_count": 0,
      "outputs": []
    },
    {
      "cell_type": "markdown",
      "metadata": {
        "id": "OHJz96I_J2dl",
        "colab_type": "text"
      },
      "source": [
        "All results are 1, we are suffering from imbalanced data. Let's try Random Forest."
      ]
    },
    {
      "cell_type": "code",
      "metadata": {
        "colab_type": "code",
        "id": "mHo4CT2tNZP9",
        "colab": {}
      },
      "source": [
        "def avg_dict(dict):\n",
        "  avgDict = {}\n",
        "  for k,v in dict.items():\n",
        "      avgDict[k] = sum(v)/ float(len(v))\n",
        "  return avgDict"
      ],
      "execution_count": 0,
      "outputs": []
    },
    {
      "cell_type": "markdown",
      "metadata": {
        "id": "YivBM22-J-5K",
        "colab_type": "text"
      },
      "source": [
        "## 5.Random Forest - Less vunerable to imbalanced data"
      ]
    },
    {
      "cell_type": "markdown",
      "metadata": {
        "id": "jwxEZfsfKiRU",
        "colab_type": "text"
      },
      "source": [
        "### (1) Modeling"
      ]
    },
    {
      "cell_type": "code",
      "metadata": {
        "id": "3kRQoM9DJrV9",
        "colab_type": "code",
        "colab": {}
      },
      "source": [
        "randomforest = RandomForestClassifier(n_estimators=100).fit(X_train, y_train)"
      ],
      "execution_count": 0,
      "outputs": []
    },
    {
      "cell_type": "markdown",
      "metadata": {
        "id": "uEmYL4S3KkYQ",
        "colab_type": "text"
      },
      "source": [
        "###(2) Prediction"
      ]
    },
    {
      "cell_type": "code",
      "metadata": {
        "id": "qcAD1zArKZns",
        "colab_type": "code",
        "colab": {}
      },
      "source": [
        "randomforest_pred = randomforest.predict(X_test)\n",
        "randomforest_pred_probs = randomforest.predict_proba(X_test)"
      ],
      "execution_count": 0,
      "outputs": []
    },
    {
      "cell_type": "code",
      "metadata": {
        "id": "e4IZsXTMLx_-",
        "colab_type": "code",
        "colab": {}
      },
      "source": [
        "randomforest_pred"
      ],
      "execution_count": 0,
      "outputs": []
    },
    {
      "cell_type": "markdown",
      "metadata": {
        "id": "R70s5BLdMBOD",
        "colab_type": "text"
      },
      "source": [
        "Prediction '1' still dominates. Let's look at the evaluation."
      ]
    },
    {
      "cell_type": "markdown",
      "metadata": {
        "id": "AMjYZe9YKuqK",
        "colab_type": "text"
      },
      "source": [
        "### (3) Evaluation"
      ]
    },
    {
      "cell_type": "code",
      "metadata": {
        "id": "Oebpt1yULTkG",
        "colab_type": "code",
        "colab": {}
      },
      "source": [
        "eval_class(y_test, randomforest_pred)"
      ],
      "execution_count": 0,
      "outputs": []
    },
    {
      "cell_type": "code",
      "metadata": {
        "id": "wGkonlJOLyTn",
        "colab_type": "code",
        "colab": {}
      },
      "source": [
        "plot_roc(y_test, randomforest_pred_probs, 'Random Forest')"
      ],
      "execution_count": 0,
      "outputs": []
    },
    {
      "cell_type": "code",
      "metadata": {
        "id": "3gfvtRbZhaZJ",
        "colab_type": "code",
        "colab": {}
      },
      "source": [
        "confision_matrix(y_test, randomforest_pred, 'Random Forest')"
      ],
      "execution_count": 0,
      "outputs": []
    },
    {
      "cell_type": "markdown",
      "metadata": {
        "id": "lJB0qY70RayA",
        "colab_type": "text"
      },
      "source": [
        "Still not perform well. Let's try to model using random split data."
      ]
    },
    {
      "cell_type": "markdown",
      "metadata": {
        "id": "EGq5t9cqTbB2",
        "colab_type": "text"
      },
      "source": [
        "## 6.CatBoost\n",
        "\n",
        "Let me just try it."
      ]
    },
    {
      "cell_type": "markdown",
      "metadata": {
        "id": "8PKbybj-ToIn",
        "colab_type": "text"
      },
      "source": [
        "### (1) Modeling"
      ]
    },
    {
      "cell_type": "code",
      "metadata": {
        "id": "9UDyiauqThXi",
        "colab_type": "code",
        "colab": {}
      },
      "source": [
        "# Model params\n",
        "params_1 = {\n",
        "    'loss_function': 'MultiClass',\n",
        "    'eval_metric': 'Accuracy',\n",
        "    'verbose': 10,\n",
        "    'random_seed': 24,\n",
        "    # 'depth':6, \n",
        "    'learning_rate':0.0001,\n",
        "    'use_best_model': True,\n",
        "    'l2_leaf_reg': 10,\n",
        "    'bagging_temperature': 3,\n",
        "    'od_type': \"Iter\",\n",
        "    'od_wait': 100\n",
        "}\n",
        "\n",
        "catboostCls = catboost.CatBoostClassifier(**params_1)\n",
        "catboostCls.fit(X_train, y_train,\n",
        "             eval_set = (X_test, y_test),\n",
        "             use_best_model = True,\n",
        "             plot=True)"
      ],
      "execution_count": 0,
      "outputs": []
    },
    {
      "cell_type": "markdown",
      "metadata": {
        "id": "7ShlVARLT--q",
        "colab_type": "text"
      },
      "source": [
        "### (2) Prediction"
      ]
    },
    {
      "cell_type": "code",
      "metadata": {
        "id": "lRpmvnDzUCLq",
        "colab_type": "code",
        "colab": {}
      },
      "source": [
        "cat_pred = catboostCls.predict(X_test)\n",
        "cat_prob = catboostCls.predict_proba(X_test)"
      ],
      "execution_count": 0,
      "outputs": []
    },
    {
      "cell_type": "markdown",
      "metadata": {
        "id": "5nKH7XFdUU3d",
        "colab_type": "text"
      },
      "source": [
        "### (3) Evaluation"
      ]
    },
    {
      "cell_type": "code",
      "metadata": {
        "id": "c1j4sGodUaQQ",
        "colab_type": "code",
        "colab": {}
      },
      "source": [
        "eval_class(y_test, cat_pred)"
      ],
      "execution_count": 0,
      "outputs": []
    },
    {
      "cell_type": "code",
      "metadata": {
        "id": "oRkYcuWoUhU3",
        "colab_type": "code",
        "colab": {}
      },
      "source": [
        "plot_roc(y_test, cat_prob, 'CatBoost')"
      ],
      "execution_count": 0,
      "outputs": []
    },
    {
      "cell_type": "code",
      "metadata": {
        "id": "ImFPmBQmhg3j",
        "colab_type": "code",
        "colab": {}
      },
      "source": [
        "confision_matrix(y_test, cat_pred, 'CatBoost')"
      ],
      "execution_count": 0,
      "outputs": []
    },
    {
      "cell_type": "markdown",
      "metadata": {
        "id": "gCW5xgQyU0Lj",
        "colab_type": "text"
      },
      "source": [
        "CatBoost is only a little bit better. Maybe we should deal with imbalanced data."
      ]
    },
    {
      "cell_type": "markdown",
      "metadata": {
        "id": "gWAgPZUBSc7W",
        "colab_type": "text"
      },
      "source": [
        "## 6.Over Sample Minority Class"
      ]
    },
    {
      "cell_type": "markdown",
      "metadata": {
        "id": "oU5gNjDUWQSU",
        "colab_type": "text"
      },
      "source": [
        "### (1) Upsample Data"
      ]
    },
    {
      "cell_type": "code",
      "metadata": {
        "id": "UHfRXdGaPD54",
        "colab_type": "code",
        "colab": {}
      },
      "source": [
        "# concatenate our training data back together\n",
        "data_to_sample = pd.concat([X_train, y_train], axis=1)\n",
        "\n",
        "# separate minority and majority classes\n",
        "unhappy = data_to_sample[data_to_sample['valence']==0]\n",
        "happy = data_to_sample[data_to_sample['valence']==1]\n",
        "\n",
        "\n",
        "# upsample minority\n",
        "unhappy_upsampled = resample(unhappy,\n",
        "                          replace=True, # sample with replacement\n",
        "                          n_samples=len(happy), # match number in majority class\n",
        "                          random_state=27) # reproducible results\n",
        "\n",
        "# combine majority and upsampled minority\n",
        "upsampled = pd.concat([happy, unhappy_upsampled])\n",
        "\n",
        "# check new class counts\n",
        "upsampled['valence'].value_counts()"
      ],
      "execution_count": 0,
      "outputs": []
    },
    {
      "cell_type": "code",
      "metadata": {
        "id": "tiWNHI5YTOKg",
        "colab_type": "code",
        "colab": {}
      },
      "source": [
        "y_upsample_train = upsampled['valence']\n",
        "X_upsample_train = upsampled.drop('valence', axis=1)"
      ],
      "execution_count": 0,
      "outputs": []
    },
    {
      "cell_type": "markdown",
      "metadata": {
        "id": "osaUlPChWZVE",
        "colab_type": "text"
      },
      "source": [
        "### (2) Logistic Regression"
      ]
    },
    {
      "cell_type": "markdown",
      "metadata": {
        "id": "aWXRjtYsWp-I",
        "colab_type": "text"
      },
      "source": [
        "i. Scale the data"
      ]
    },
    {
      "cell_type": "code",
      "metadata": {
        "id": "0TmfWXfnWX2O",
        "colab_type": "code",
        "colab": {}
      },
      "source": [
        "scaler = preprocessing.StandardScaler().fit(X_upsample_train)\n",
        "X_upsample_train_scaled = scaler.transform(X_upsample_train)\n",
        "X_test_scaled = scaler.transform(X_test)"
      ],
      "execution_count": 0,
      "outputs": []
    },
    {
      "cell_type": "markdown",
      "metadata": {
        "id": "LKHehg7ZWvBN",
        "colab_type": "text"
      },
      "source": [
        "ii. Modeling"
      ]
    },
    {
      "cell_type": "code",
      "metadata": {
        "id": "zbTyU32sWuA5",
        "colab_type": "code",
        "colab": {}
      },
      "source": [
        "logisticReg2 = LogisticRegression(max_iter=20000)\n",
        "logisticReg2.fit(X_upsample_train_scaled, y_upsample_train)"
      ],
      "execution_count": 0,
      "outputs": []
    },
    {
      "cell_type": "markdown",
      "metadata": {
        "id": "SO1dhs-sWyUy",
        "colab_type": "text"
      },
      "source": [
        "iii. Prediction"
      ]
    },
    {
      "cell_type": "code",
      "metadata": {
        "id": "UqEoL4pQWzXG",
        "colab_type": "code",
        "colab": {}
      },
      "source": [
        "logistic2_pred = logisticReg2.predict(X_test_scaled)\n",
        "logistic2_pred_probs = logisticReg2.predict_proba(X_test_scaled)"
      ],
      "execution_count": 0,
      "outputs": []
    },
    {
      "cell_type": "markdown",
      "metadata": {
        "id": "0Tije5XpW5o5",
        "colab_type": "text"
      },
      "source": [
        "iv. Evaluation"
      ]
    },
    {
      "cell_type": "code",
      "metadata": {
        "id": "-56W0yfnW3OE",
        "colab_type": "code",
        "colab": {}
      },
      "source": [
        "eval_class(y_test, logistic2_pred)"
      ],
      "execution_count": 0,
      "outputs": []
    },
    {
      "cell_type": "markdown",
      "metadata": {
        "id": "NhMzzHIaXiHQ",
        "colab_type": "text"
      },
      "source": [
        "As we can see, the specificity score improved drmatically, this is a good sign."
      ]
    },
    {
      "cell_type": "code",
      "metadata": {
        "id": "suXZNk2uW8q-",
        "colab_type": "code",
        "colab": {}
      },
      "source": [
        "plot_roc(y_test, logistic2_pred_probs, 'Linear Regression')"
      ],
      "execution_count": 0,
      "outputs": []
    },
    {
      "cell_type": "code",
      "metadata": {
        "id": "YzEhvlb-hnqB",
        "colab_type": "code",
        "colab": {}
      },
      "source": [
        "confision_matrix(y_test, logistic2_pred, 'Linear Regression')"
      ],
      "execution_count": 0,
      "outputs": []
    },
    {
      "cell_type": "markdown",
      "metadata": {
        "id": "y6ssNhdgXrTu",
        "colab_type": "text"
      },
      "source": [
        "### (3) Random Forest"
      ]
    },
    {
      "cell_type": "markdown",
      "metadata": {
        "id": "tYpLTiO9YaJZ",
        "colab_type": "text"
      },
      "source": [
        "i. Modeling"
      ]
    },
    {
      "cell_type": "code",
      "metadata": {
        "id": "WJt6HRvBXB8H",
        "colab_type": "code",
        "colab": {}
      },
      "source": [
        "randomforest2 = RandomForestClassifier(n_estimators=100).fit(X_upsample_train_scaled, y_upsample_train)"
      ],
      "execution_count": 0,
      "outputs": []
    },
    {
      "cell_type": "markdown",
      "metadata": {
        "id": "nSoy_VXnYc2_",
        "colab_type": "text"
      },
      "source": [
        "ii.Prediction"
      ]
    },
    {
      "cell_type": "code",
      "metadata": {
        "id": "Xtp5oJ57YbwE",
        "colab_type": "code",
        "colab": {}
      },
      "source": [
        "randomforest2_pred = randomforest2.predict(X_test_scaled)\n",
        "randomforest2_pred_probs = randomforest2.predict_proba(X_test_scaled)"
      ],
      "execution_count": 0,
      "outputs": []
    },
    {
      "cell_type": "markdown",
      "metadata": {
        "id": "JEUtywmHYm1k",
        "colab_type": "text"
      },
      "source": [
        "iii.Evaluation"
      ]
    },
    {
      "cell_type": "code",
      "metadata": {
        "id": "i7Zi7phQYl_H",
        "colab_type": "code",
        "colab": {}
      },
      "source": [
        "eval_class(y_test, randomforest2_pred)"
      ],
      "execution_count": 0,
      "outputs": []
    },
    {
      "cell_type": "code",
      "metadata": {
        "id": "PF6aYC6aYxtX",
        "colab_type": "code",
        "colab": {}
      },
      "source": [
        "plot_roc(y_test, randomforest2_pred_probs, 'Random Forest')"
      ],
      "execution_count": 0,
      "outputs": []
    },
    {
      "cell_type": "code",
      "metadata": {
        "id": "Ky6iTOzoht_u",
        "colab_type": "code",
        "colab": {}
      },
      "source": [
        "confision_matrix(y_test, randomforest2_pred, 'Random Forest')"
      ],
      "execution_count": 0,
      "outputs": []
    },
    {
      "cell_type": "markdown",
      "metadata": {
        "id": "yFDXxJA0ZHY5",
        "colab_type": "text"
      },
      "source": [
        "The AUC improved a little bit. But specificity is still 0."
      ]
    },
    {
      "cell_type": "markdown",
      "metadata": {
        "id": "cO0ja1QZZNBo",
        "colab_type": "text"
      },
      "source": [
        "### (4) CatBoost"
      ]
    },
    {
      "cell_type": "markdown",
      "metadata": {
        "id": "wXD0CUeeahvE",
        "colab_type": "text"
      },
      "source": [
        "i. Modeling"
      ]
    },
    {
      "cell_type": "code",
      "metadata": {
        "id": "O2npPMaxY-EO",
        "colab_type": "code",
        "colab": {}
      },
      "source": [
        "# Model params\n",
        "params_2 = {\n",
        "    'loss_function': 'MultiClass',\n",
        "    'eval_metric': 'Accuracy',\n",
        "    'verbose': 10,\n",
        "    'random_seed': 24,\n",
        "    # 'depth':6, \n",
        "    'learning_rate':0.0001,\n",
        "    'use_best_model': True,\n",
        "    'l2_leaf_reg': 10,\n",
        "    'bagging_temperature': 3,\n",
        "    'od_type': \"Iter\",\n",
        "    'od_wait': 100\n",
        "}\n",
        "\n",
        "catboostCls2 = catboost.CatBoostClassifier(**params_2)\n",
        "catboostCls2.fit(X_upsample_train_scaled, y_upsample_train,\n",
        "             eval_set = (X_test_scaled, y_test),\n",
        "             use_best_model = True,\n",
        "             plot=True)"
      ],
      "execution_count": 0,
      "outputs": []
    },
    {
      "cell_type": "markdown",
      "metadata": {
        "id": "StXaHZgXank6",
        "colab_type": "text"
      },
      "source": [
        "ii. Prediction"
      ]
    },
    {
      "cell_type": "code",
      "metadata": {
        "id": "mSeLyS_dZCTJ",
        "colab_type": "code",
        "colab": {}
      },
      "source": [
        "cat2_pred = catboostCls2.predict(X_test_scaled)\n",
        "cat2_prob = catboostCls2.predict_proba(X_test_scaled)"
      ],
      "execution_count": 0,
      "outputs": []
    },
    {
      "cell_type": "markdown",
      "metadata": {
        "id": "hBQ2iyCravNb",
        "colab_type": "text"
      },
      "source": [
        "iii. Evaluation"
      ]
    },
    {
      "cell_type": "code",
      "metadata": {
        "id": "pmHUmeU5ZFEQ",
        "colab_type": "code",
        "colab": {}
      },
      "source": [
        "eval_class(y_test, cat2_pred)"
      ],
      "execution_count": 0,
      "outputs": []
    },
    {
      "cell_type": "code",
      "metadata": {
        "id": "52qyPdCwazWw",
        "colab_type": "code",
        "colab": {}
      },
      "source": [
        "plot_roc(y_test, cat2_prob, 'CatBoost')"
      ],
      "execution_count": 0,
      "outputs": []
    },
    {
      "cell_type": "code",
      "metadata": {
        "id": "I7UakIR7hzRz",
        "colab_type": "code",
        "colab": {}
      },
      "source": [
        "confision_matrix(y_test, cat2_pred, 'CatBoost')"
      ],
      "execution_count": 0,
      "outputs": []
    },
    {
      "cell_type": "markdown",
      "metadata": {
        "id": "QrS34KuYbBj4",
        "colab_type": "text"
      },
      "source": [
        "## 7.Under Sample Majority Class"
      ]
    },
    {
      "cell_type": "markdown",
      "metadata": {
        "id": "cHvwEqnibCUw",
        "colab_type": "text"
      },
      "source": [
        "### (1) Undersample Data"
      ]
    },
    {
      "cell_type": "code",
      "metadata": {
        "id": "-A_UZjrna7J-",
        "colab_type": "code",
        "colab": {}
      },
      "source": [
        "# downsample majority\n",
        "happy_downsampled = resample(happy,\n",
        "                                replace = False, # sample without replacement\n",
        "                                n_samples = len(unhappy), # match minority n\n",
        "                                random_state = 27) # reproducible results\n",
        "\n",
        "# combine minority and downsampled majority\n",
        "downsampled = pd.concat([happy_downsampled, unhappy])\n",
        "\n",
        "# checking counts\n",
        "downsampled['valence'].value_counts()"
      ],
      "execution_count": 0,
      "outputs": []
    },
    {
      "cell_type": "code",
      "metadata": {
        "id": "GGmE7fZzbeFh",
        "colab_type": "code",
        "colab": {}
      },
      "source": [
        "y_downsample_train = downsampled['valence']\n",
        "X_downsample_train = downsampled.drop('valence', axis=1)"
      ],
      "execution_count": 0,
      "outputs": []
    },
    {
      "cell_type": "markdown",
      "metadata": {
        "id": "KRYnAV4mbqnh",
        "colab_type": "text"
      },
      "source": [
        "### (2) Logistic Regression"
      ]
    },
    {
      "cell_type": "markdown",
      "metadata": {
        "id": "gpaCJQGMepus",
        "colab_type": "text"
      },
      "source": [
        "i. Scale the Data"
      ]
    },
    {
      "cell_type": "code",
      "metadata": {
        "id": "uv7yAREWbpMG",
        "colab_type": "code",
        "colab": {}
      },
      "source": [
        "scaler = preprocessing.StandardScaler().fit(X_downsample_train)\n",
        "X_downsample_train_scaled = scaler.transform(X_downsample_train)\n",
        "X_test_scaled = scaler.transform(X_test)"
      ],
      "execution_count": 0,
      "outputs": []
    },
    {
      "cell_type": "markdown",
      "metadata": {
        "id": "_3nJnJohessN",
        "colab_type": "text"
      },
      "source": [
        "ii. Modeling"
      ]
    },
    {
      "cell_type": "code",
      "metadata": {
        "id": "kO2YGx8Kb6ZB",
        "colab_type": "code",
        "colab": {}
      },
      "source": [
        "logisticReg3 = LogisticRegression(max_iter=20000)\n",
        "logisticReg3.fit(X_downsample_train_scaled, y_downsample_train)"
      ],
      "execution_count": 0,
      "outputs": []
    },
    {
      "cell_type": "markdown",
      "metadata": {
        "id": "ULNtKosOe02X",
        "colab_type": "text"
      },
      "source": [
        "iii. Prediction"
      ]
    },
    {
      "cell_type": "code",
      "metadata": {
        "id": "hiF4_02ecL7O",
        "colab_type": "code",
        "colab": {}
      },
      "source": [
        "logistic3_pred = logisticReg3.predict(X_test_scaled)\n",
        "logistic3_pred_probs = logisticReg3.predict_proba(X_test_scaled)"
      ],
      "execution_count": 0,
      "outputs": []
    },
    {
      "cell_type": "markdown",
      "metadata": {
        "id": "LF4Hj5vre53_",
        "colab_type": "text"
      },
      "source": [
        "iv. Evaluation"
      ]
    },
    {
      "cell_type": "code",
      "metadata": {
        "id": "iBw5_M_qe2qX",
        "colab_type": "code",
        "colab": {}
      },
      "source": [
        "eval_class(y_test, logistic3_pred)"
      ],
      "execution_count": 0,
      "outputs": []
    },
    {
      "cell_type": "code",
      "metadata": {
        "id": "of6un4h5e-wZ",
        "colab_type": "code",
        "colab": {}
      },
      "source": [
        "plot_roc(y_test, logistic3_pred_probs, 'Linear Regression')"
      ],
      "execution_count": 0,
      "outputs": []
    },
    {
      "cell_type": "code",
      "metadata": {
        "id": "Ez8bsRgrh-c1",
        "colab_type": "code",
        "colab": {}
      },
      "source": [
        "confision_matrix(y_test, logistic3_pred, 'Linear Regression')"
      ],
      "execution_count": 0,
      "outputs": []
    },
    {
      "cell_type": "markdown",
      "metadata": {
        "id": "J7dzbwFNfHz9",
        "colab_type": "text"
      },
      "source": [
        "### (3) Random Forest"
      ]
    },
    {
      "cell_type": "markdown",
      "metadata": {
        "id": "eLF5QHnWfKsN",
        "colab_type": "text"
      },
      "source": [
        "i. Modeling"
      ]
    },
    {
      "cell_type": "code",
      "metadata": {
        "id": "gEOBh-eOfECb",
        "colab_type": "code",
        "colab": {}
      },
      "source": [
        "randomforest3 = RandomForestClassifier(n_estimators=100).fit(X_downsample_train_scaled, y_downsample_train)"
      ],
      "execution_count": 0,
      "outputs": []
    },
    {
      "cell_type": "markdown",
      "metadata": {
        "id": "2czg-NDqfMGF",
        "colab_type": "text"
      },
      "source": [
        "ii. Prediction"
      ]
    },
    {
      "cell_type": "code",
      "metadata": {
        "id": "8UOOegH6fNOo",
        "colab_type": "code",
        "colab": {}
      },
      "source": [
        "randomforest3_pred = randomforest3.predict(X_test_scaled)\n",
        "randomforest3_pred_probs = randomforest3.predict_proba(X_test_scaled)"
      ],
      "execution_count": 0,
      "outputs": []
    },
    {
      "cell_type": "markdown",
      "metadata": {
        "id": "0vdWkVHzfNvy",
        "colab_type": "text"
      },
      "source": [
        "iii. Evaluation"
      ]
    },
    {
      "cell_type": "code",
      "metadata": {
        "id": "sM8_gvjqfPO_",
        "colab_type": "code",
        "colab": {}
      },
      "source": [
        "eval_class(y_test, randomforest3_pred)"
      ],
      "execution_count": 0,
      "outputs": []
    },
    {
      "cell_type": "code",
      "metadata": {
        "id": "B0HtSFIkiKUn",
        "colab_type": "code",
        "colab": {}
      },
      "source": [
        "plot_roc(y_test, randomforest3_pred_probs, 'Random Forest')"
      ],
      "execution_count": 0,
      "outputs": []
    },
    {
      "cell_type": "code",
      "metadata": {
        "id": "jjtGwpyFiF7P",
        "colab_type": "code",
        "colab": {}
      },
      "source": [
        "confision_matrix(y_test, randomforest3_pred, 'Random Forest')"
      ],
      "execution_count": 0,
      "outputs": []
    },
    {
      "cell_type": "markdown",
      "metadata": {
        "id": "CBwepdeLfPv0",
        "colab_type": "text"
      },
      "source": [
        "### (4) CatBoost"
      ]
    },
    {
      "cell_type": "markdown",
      "metadata": {
        "id": "vFeOLkLvfR9k",
        "colab_type": "text"
      },
      "source": [
        "i. Modeling"
      ]
    },
    {
      "cell_type": "code",
      "metadata": {
        "id": "haw36Qd9fTGP",
        "colab_type": "code",
        "colab": {}
      },
      "source": [
        "# Model params\n",
        "params_3 = {\n",
        "    'loss_function': 'MultiClass',\n",
        "    'eval_metric': 'Accuracy',\n",
        "    'verbose': 10,\n",
        "    'random_seed': 24,\n",
        "    # 'depth':6, \n",
        "    'learning_rate':0.0001,\n",
        "    'use_best_model': True,\n",
        "    'l2_leaf_reg': 10,\n",
        "    'bagging_temperature': 3,\n",
        "    'od_type': \"Iter\",\n",
        "    'od_wait': 100\n",
        "}\n",
        "\n",
        "catboostCls3 = catboost.CatBoostClassifier(**params_3)\n",
        "catboostCls3.fit(X_downsample_train_scaled, y_downsample_train,\n",
        "             eval_set = (X_test_scaled, y_test),\n",
        "             use_best_model = True,\n",
        "             plot=True)"
      ],
      "execution_count": 0,
      "outputs": []
    },
    {
      "cell_type": "markdown",
      "metadata": {
        "id": "Vvf3iROIfTkg",
        "colab_type": "text"
      },
      "source": [
        "ii. Prediction"
      ]
    },
    {
      "cell_type": "code",
      "metadata": {
        "id": "ltXdr5JqfU1c",
        "colab_type": "code",
        "colab": {}
      },
      "source": [
        "cat3_pred = catboostCls3.predict(X_test_scaled)\n",
        "cat3_prob = catboostCls3.predict_proba(X_test_scaled)"
      ],
      "execution_count": 0,
      "outputs": []
    },
    {
      "cell_type": "markdown",
      "metadata": {
        "id": "QCIjR3h-fVU_",
        "colab_type": "text"
      },
      "source": [
        "iii. Evaluation"
      ]
    },
    {
      "cell_type": "code",
      "metadata": {
        "id": "75i1mxkpfWuM",
        "colab_type": "code",
        "colab": {}
      },
      "source": [
        "eval_class(y_test, cat3_pred)"
      ],
      "execution_count": 0,
      "outputs": []
    },
    {
      "cell_type": "code",
      "metadata": {
        "id": "2ZjuYCFVgBP0",
        "colab_type": "code",
        "colab": {}
      },
      "source": [
        "plot_roc(y_test, cat3_prob, 'CatBoost')"
      ],
      "execution_count": 0,
      "outputs": []
    },
    {
      "cell_type": "code",
      "metadata": {
        "id": "UhXpX_7NiPIe",
        "colab_type": "code",
        "colab": {}
      },
      "source": [
        "confision_matrix(y_test, cat3_pred, 'CatBoost')"
      ],
      "execution_count": 0,
      "outputs": []
    },
    {
      "cell_type": "markdown",
      "metadata": {
        "id": "EIRKsgsNgQdp",
        "colab_type": "text"
      },
      "source": [
        "## 8.Generate Synthetic Samples (SMOTE)"
      ]
    },
    {
      "cell_type": "markdown",
      "metadata": {
        "id": "Q-a8cxXIimnC",
        "colab_type": "text"
      },
      "source": [
        "### (1) Generate New Samples"
      ]
    },
    {
      "cell_type": "code",
      "metadata": {
        "id": "XXFa4Yw6gFfo",
        "colab_type": "code",
        "colab": {}
      },
      "source": [
        "sm = SMOTE(random_state=27, ratio=1.0)\n",
        "X_smo_train, y_smo_train = sm.fit_sample(X_train, y_train)"
      ],
      "execution_count": 0,
      "outputs": []
    },
    {
      "cell_type": "markdown",
      "metadata": {
        "id": "casMHfpvixk2",
        "colab_type": "text"
      },
      "source": [
        "### (2) Logistic Regression"
      ]
    },
    {
      "cell_type": "markdown",
      "metadata": {
        "id": "8Od7B5e7i9-r",
        "colab_type": "text"
      },
      "source": [
        "i. Scale the Data"
      ]
    },
    {
      "cell_type": "code",
      "metadata": {
        "id": "tgv_5WaliuKh",
        "colab_type": "code",
        "colab": {}
      },
      "source": [
        "scaler = preprocessing.StandardScaler().fit(X_smo_train)\n",
        "X_smo_train_scaled = scaler.transform(X_smo_train)\n",
        "X_test_scaled = scaler.transform(X_test)"
      ],
      "execution_count": 0,
      "outputs": []
    },
    {
      "cell_type": "markdown",
      "metadata": {
        "id": "EyefzqmEjHIW",
        "colab_type": "text"
      },
      "source": [
        "ii. Modeling"
      ]
    },
    {
      "cell_type": "code",
      "metadata": {
        "id": "CmsuxiuZjGAb",
        "colab_type": "code",
        "colab": {}
      },
      "source": [
        "logisticReg4 = LogisticRegression(max_iter=20000)\n",
        "logisticReg4.fit(X_smo_train_scaled, y_smo_train)"
      ],
      "execution_count": 0,
      "outputs": []
    },
    {
      "cell_type": "markdown",
      "metadata": {
        "id": "yp8HIsoUjSVD",
        "colab_type": "text"
      },
      "source": [
        "iii. Prediction"
      ]
    },
    {
      "cell_type": "code",
      "metadata": {
        "id": "nPkQjRRQjQmG",
        "colab_type": "code",
        "colab": {}
      },
      "source": [
        "logistic4_pred = logisticReg4.predict(X_test_scaled)\n",
        "logistic4_pred_probs = logisticReg4.predict_proba(X_test_scaled)"
      ],
      "execution_count": 0,
      "outputs": []
    },
    {
      "cell_type": "markdown",
      "metadata": {
        "id": "N7R8_JrzjZ0P",
        "colab_type": "text"
      },
      "source": [
        "iv. Evaluation"
      ]
    },
    {
      "cell_type": "code",
      "metadata": {
        "id": "V4RGNv_ZjZF7",
        "colab_type": "code",
        "colab": {}
      },
      "source": [
        "eval_class(y_test, logistic4_pred)\n",
        "plot_roc(y_test, logistic4_pred_probs, 'Linear Regression')\n",
        "confision_matrix(y_test, logistic4_pred, 'Linear Regression')"
      ],
      "execution_count": 0,
      "outputs": []
    },
    {
      "cell_type": "markdown",
      "metadata": {
        "id": "yEgGDAPRjwHW",
        "colab_type": "text"
      },
      "source": [
        "### (3) Random Forest"
      ]
    },
    {
      "cell_type": "markdown",
      "metadata": {
        "id": "jfcNaNRvjz5u",
        "colab_type": "text"
      },
      "source": [
        "i. Modeling"
      ]
    },
    {
      "cell_type": "code",
      "metadata": {
        "id": "5X_Tv3-6jhHc",
        "colab_type": "code",
        "colab": {}
      },
      "source": [
        "randomforest4 = RandomForestClassifier(n_estimators=100).fit(X_smo_train_scaled, y_smo_train)"
      ],
      "execution_count": 0,
      "outputs": []
    },
    {
      "cell_type": "markdown",
      "metadata": {
        "id": "vrfAksO9j1w1",
        "colab_type": "text"
      },
      "source": [
        "ii. Prediction"
      ]
    },
    {
      "cell_type": "code",
      "metadata": {
        "id": "ND8D2xBJjqwX",
        "colab_type": "code",
        "colab": {}
      },
      "source": [
        "randomforest4_pred = randomforest4.predict(X_test_scaled)\n",
        "randomforest4_pred_probs = randomforest4.predict_proba(X_test_scaled)"
      ],
      "execution_count": 0,
      "outputs": []
    },
    {
      "cell_type": "markdown",
      "metadata": {
        "id": "_kzmecBXj3cC",
        "colab_type": "text"
      },
      "source": [
        "iii. Evaluation"
      ]
    },
    {
      "cell_type": "code",
      "metadata": {
        "id": "9LWTbhORj40J",
        "colab_type": "code",
        "colab": {}
      },
      "source": [
        "eval_class(y_test, randomforest4_pred)\n",
        "plot_roc(y_test, randomforest4_pred_probs, 'Random Forest')\n",
        "confision_matrix(y_test, randomforest4_pred, 'Random Forest')"
      ],
      "execution_count": 0,
      "outputs": []
    },
    {
      "cell_type": "markdown",
      "metadata": {
        "id": "dP6ttOFOkNGJ",
        "colab_type": "text"
      },
      "source": [
        "### (4) CatBoost"
      ]
    },
    {
      "cell_type": "markdown",
      "metadata": {
        "id": "JjM9g_7_kRB1",
        "colab_type": "text"
      },
      "source": [
        "i. Modeling"
      ]
    },
    {
      "cell_type": "code",
      "metadata": {
        "id": "AuMhqibekLYk",
        "colab_type": "code",
        "colab": {}
      },
      "source": [
        "# Model params\n",
        "params_4 = {\n",
        "    'loss_function': 'MultiClass',\n",
        "    'eval_metric': 'Accuracy',\n",
        "    'verbose': 10,\n",
        "    'random_seed': 24,\n",
        "    # 'depth':6, \n",
        "    'learning_rate':0.0001,\n",
        "    'use_best_model': True,\n",
        "    'l2_leaf_reg': 10,\n",
        "    'bagging_temperature': 3,\n",
        "    'od_type': \"Iter\",\n",
        "    'od_wait': 100\n",
        "}\n",
        "\n",
        "catboostCls4 = catboost.CatBoostClassifier(**params_4)\n",
        "catboostCls4.fit(X_smo_train_scaled, y_smo_train,\n",
        "             eval_set = (X_test_scaled, y_test),\n",
        "             use_best_model = True,\n",
        "             plot=True)"
      ],
      "execution_count": 0,
      "outputs": []
    },
    {
      "cell_type": "markdown",
      "metadata": {
        "id": "dHHPWx9_kTxQ",
        "colab_type": "text"
      },
      "source": [
        "ii. Prediction"
      ]
    },
    {
      "cell_type": "code",
      "metadata": {
        "id": "uiyZsHbUkU1k",
        "colab_type": "code",
        "colab": {}
      },
      "source": [
        "cat4_pred = catboostCls4.predict(X_test_scaled)\n",
        "cat4_prob = catboostCls4.predict_proba(X_test_scaled)"
      ],
      "execution_count": 0,
      "outputs": []
    },
    {
      "cell_type": "markdown",
      "metadata": {
        "id": "HwR-6Pf5kV5K",
        "colab_type": "text"
      },
      "source": [
        "iii. Evaluation"
      ]
    },
    {
      "cell_type": "code",
      "metadata": {
        "id": "7pqz1szmkXig",
        "colab_type": "code",
        "colab": {}
      },
      "source": [
        "eval_class(y_test, cat4_pred)\n",
        "plot_roc(y_test, cat4_prob, 'CatBoost')\n",
        "confision_matrix(y_test, cat4_pred, 'CatBoost')"
      ],
      "execution_count": 0,
      "outputs": []
    },
    {
      "cell_type": "markdown",
      "metadata": {
        "id": "dzsCYy69lI6U",
        "colab_type": "text"
      },
      "source": [
        "## 9.Conclusion\n",
        "\n",
        "1. Under Sample Majority + Logistic Regression gives best specificity. Which is 0.5806451612903226 (only fitbit data gives 0.5657894736842105).\n",
        "2. Best AUC given by SMOTE + Logistic Regression, with auc = 0.7.\n",
        "3. Under sample majority in general helps model detect unhappy case."
      ]
    },
    {
      "cell_type": "code",
      "metadata": {
        "id": "Cs6c0PPXkuv0",
        "colab_type": "code",
        "colab": {}
      },
      "source": [
        ""
      ],
      "execution_count": 0,
      "outputs": []
    }
  ]
}