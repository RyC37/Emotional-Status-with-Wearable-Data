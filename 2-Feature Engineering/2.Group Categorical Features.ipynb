{
 "cells": [
  {
   "cell_type": "markdown",
   "metadata": {},
   "source": [
    "## Feature Engineering - Encode Categorical Features"
   ]
  },
  {
   "cell_type": "code",
   "execution_count": 46,
   "metadata": {},
   "outputs": [],
   "source": [
    "import pandas as pd\n",
    "import numpy as np"
   ]
  },
  {
   "cell_type": "markdown",
   "metadata": {},
   "source": [
    "### 1.Load Data"
   ]
  },
  {
   "cell_type": "code",
   "execution_count": 47,
   "metadata": {},
   "outputs": [],
   "source": [
    "exp = pd.read_csv('./data/processed/exp_r2r.csv')"
   ]
  },
  {
   "cell_type": "code",
   "execution_count": 48,
   "metadata": {},
   "outputs": [],
   "source": [
    "exp.reset_index(inplace=True) # Avoid error in cross validation"
   ]
  },
  {
   "cell_type": "markdown",
   "metadata": {},
   "source": [
    "### 2.Preprocessing"
   ]
  },
  {
   "cell_type": "markdown",
   "metadata": {},
   "source": [
    "(1) Generate Labels"
   ]
  },
  {
   "cell_type": "code",
   "execution_count": 49,
   "metadata": {},
   "outputs": [],
   "source": [
    "exp['max_n'] = exp[['la_n','n','ha_n']].max(axis=1)\n",
    "exp['max_p'] = exp[['la_p','p','ha_p']].max(axis=1)\n",
    "exp['valence_p'] = exp[['la_p','p','ha_p']].mean(axis=1)\n",
    "exp['valence_n'] = exp[['la_n','n','ha_n']].mean(axis=1)\n",
    "exp['valence_reg'] = exp['valence_p'] - exp['valence_n']\n",
    "exp['valence'] = 0\n",
    "exp.loc[exp['max_n'] >= exp['max_p'], 'valence'] = 1"
   ]
  },
  {
   "cell_type": "markdown",
   "metadata": {},
   "source": [
    "(2) Encoding Categorical Data"
   ]
  },
  {
   "cell_type": "markdown",
   "metadata": {},
   "source": [
    "i. Education"
   ]
  },
  {
   "cell_type": "code",
   "execution_count": 50,
   "metadata": {},
   "outputs": [],
   "source": [
    "HS = ['12.0','high school', 'High School', 'high school + cosmetology school', 'High School Graduate']\n",
    "BA = ['Some college', 'B.A. English/Spanish B.S. Nursing', 'B.S. working on MD and MTS', 'B.S.  Mechanical Engineering', \n",
    "      \"Bachelor's Degree\", 'B.A.', 'College student 3 years', 'B.A. from Cornell Univ.', 'Bachelors degree in Social Work', \n",
    "      'BS', 'BA Vanderbilt', 'BS Communications', \"college graduate (bachelor's degree in Music from Belmont University)\",\n",
    "      'Bachelor of Arts', 'BSN- bachelors of science in nursing', 'BSE Princeton',\n",
    "      'Obtained B.S., 2011', 'bachelor of science', 'Bachelor of Social Work', 'B.S.', 'BBA - Bachelors', 'BSC Communications',\n",
    "      'B.A. 1988', 'B.S. degree dietetics, internship', 'Bachelor of Arts + Equivalency Degree', 'Bachelors', 'B.S. Business Management',\n",
    "      'B.S. Psychology Texas A&M', 'BS Journalism; BS Nutrition', 'B.E.Sc.', 'Bachelor Degree Music Ed', 'NDCDP',\n",
    "      'BS Math/Computer Science', 'BS Business', 'college graduate','14.0','16.0']\n",
    "MS = ['MBA', 'High School Diploma, BA, MBA', 'B.S. Business Management', 'BS Business','College grad', 'College, Masters',\"Bachelor of science, 1 year of Master's\",'Masters; PhD ongoing', 'M.S. Psychology/ B.A. Sociology',\n",
    "                'B.S., MPH','18.0', '19.0']\n",
    "PhD = ['Ph.D.', 'PhD Candidate', 'PhD', 'BS. (PhD Student currently)', 'Masters; PhD ongoing', \n",
    "       'Pursuing PhD at Vanderbilt. Have B.S. from UTK', 'BA from Stanford, JD from Univ of Michigan','21.0', '22.0', '20.0']"
   ]
  },
  {
   "cell_type": "code",
   "execution_count": 51,
   "metadata": {},
   "outputs": [],
   "source": [
    "exp.loc[:,'edu'] = 0\n",
    "exp.loc[:,'edu_hs'] = 0\n",
    "exp.loc[exp['Education'].isin(HS), 'edu_hs'] = 1\n",
    "exp.loc[exp['Education'].isin(HS), 'edu'] = 'high school'\n",
    "exp.loc[:,'edu_ba'] = 0\n",
    "exp.loc[exp['Education'].isin(BA), 'edu_ba'] = 1\n",
    "exp.loc[exp['Education'].isin(BA), 'edu'] = 'undergrad'\n",
    "exp.loc[:,'edu_ma'] = 0\n",
    "exp.loc[exp['Education'].isin(MS), 'edu_ma'] = 1\n",
    "exp.loc[exp['Education'].isin(MS), 'edu'] = 'master'\n",
    "exp.loc[:,'edu_phd'] = 0\n",
    "exp.loc[exp['Education'].isin(PhD), 'edu_phd'] = 1\n",
    "exp.loc[exp['Education'].isin(PhD), 'edu'] = 'phd'"
   ]
  },
  {
   "cell_type": "markdown",
   "metadata": {},
   "source": [
    "ii. Sex"
   ]
  },
  {
   "cell_type": "code",
   "execution_count": 52,
   "metadata": {},
   "outputs": [
    {
     "data": {
      "text/plain": [
       "(3058, 223)"
      ]
     },
     "execution_count": 52,
     "metadata": {},
     "output_type": "execute_result"
    }
   ],
   "source": [
    "exp['Sex'].unique()\n",
    "# Drop NA in Sex column\n",
    "exp = exp[~exp['Sex'].isna()]\n",
    "exp.shape"
   ]
  },
  {
   "cell_type": "markdown",
   "metadata": {},
   "source": [
    "iii. Marital Status"
   ]
  },
  {
   "cell_type": "code",
   "execution_count": 53,
   "metadata": {},
   "outputs": [],
   "source": [
    "exp.loc[:,'is_married'] = 0\n",
    "exp.loc[exp['Marital_Status'] == 'Married', 'is_married'] = 1\n",
    "exp.loc[:,'is_divorced'] = 0\n",
    "exp.loc[exp['Marital_Status'] == 'Divorced', 'is_divorced'] = 1\n",
    "exp.loc[:,'is_single'] = 0\n",
    "exp.loc[exp['Marital_Status'] == 'Single', 'is_single'] = 1\n",
    "exp.loc[:,'is_widowed'] = 0\n",
    "exp.loc[exp['Marital_Status'] == 'Widowed', 'is_widowed'] = 1\n",
    "exp.loc[:,'is_with_partner'] = 0\n",
    "exp.loc[exp['Marital_Status'] == 'Living with partner', 'is_with_partner'] = 1"
   ]
  },
  {
   "cell_type": "markdown",
   "metadata": {},
   "source": [
    "iv. Income"
   ]
  },
  {
   "cell_type": "code",
   "execution_count": 54,
   "metadata": {},
   "outputs": [],
   "source": [
    "exp.loc[:,'income'] = 0\n",
    "exp.loc[exp['Household_income'] == '$10,000-$19,999', 'income'] = 1\n",
    "exp.loc[exp['Household_income'] == '$20,000-$29,999', 'income'] = 2\n",
    "exp.loc[exp['Household_income'] == '$30,000-$39,999', 'income'] = 3\n",
    "exp.loc[exp['Household_income'] == '$40,000-$49,999', 'income'] = 4\n",
    "exp.loc[exp['Household_income'] == '$50,000-$59,999', 'income'] = 5\n",
    "exp.loc[exp['Household_income'] == '$60,000-$69,999', 'income'] = 6\n",
    "exp.loc[exp['Household_income'] == '$70,000-$79,999', 'income'] = 7\n",
    "exp.loc[exp['Household_income'] == '$80,000-$89,999', 'income'] = 8\n",
    "exp.loc[exp['Household_income'] == '$90,000-$99,999', 'income'] = 9\n",
    "exp.loc[exp['Household_income'] == '$100,000-$109,999', 'income'] = 10\n",
    "exp.loc[exp['Household_income'] == '$110,000-$119,999', 'income'] = 11\n",
    "exp.loc[exp['Household_income'] == '$120,000-$129,999', 'income'] = 12\n",
    "exp.loc[exp['Household_income'] == '$130,000-$139,000', 'income'] = 13\n",
    "exp.loc[exp['Household_income'] == '$140,000-$149,999', 'income'] = 14\n",
    "exp.loc[exp['Household_income'].isin(['$150,000 or more ','$150,000 or more']), 'income'] = 15"
   ]
  },
  {
   "cell_type": "markdown",
   "metadata": {},
   "source": [
    "### 3.Check Missingness"
   ]
  },
  {
   "cell_type": "code",
   "execution_count": 55,
   "metadata": {},
   "outputs": [],
   "source": [
    "missing_rate = exp.isnull().sum()/exp.shape[0]"
   ]
  },
  {
   "cell_type": "code",
   "execution_count": 56,
   "metadata": {},
   "outputs": [],
   "source": [
    "missing_lt_half_col = missing_rate[missing_rate <= .3].index.values"
   ]
  },
  {
   "cell_type": "code",
   "execution_count": 57,
   "metadata": {},
   "outputs": [],
   "source": [
    "exp_clean = exp[missing_lt_half_col].dropna()"
   ]
  },
  {
   "cell_type": "code",
   "execution_count": 58,
   "metadata": {},
   "outputs": [
    {
     "data": {
      "text/plain": [
       "array(['index', 'Unnamed: 0', 'Unnamed: 0.1', 'subject', 'la_p', 'ha_p',\n",
       "       'ha_n', 'la_n', 'la', 'p', 'n', 'ha', 'start_survey', 'survey_no',\n",
       "       'experiment', 'DATE_x', 'Period_of_day', 'VALENCE', 'VALENCE_mean',\n",
       "       'start_survey_5m_ahead', 'start_survey_10m_ahead',\n",
       "       'start_survey_30m_ahead', 'start_survey_1h_ahead',\n",
       "       'start_survey_3h_ahead', 'survey_date', 'subject_id_x', 'step_max',\n",
       "       'step_min', 'step_median', 'steps_max_3h', 'steps_min_3h',\n",
       "       'steps_mean_3h', 'steps_var_3h', 'steps_median_3h', 'move_rate_3h',\n",
       "       'active_rate_3h', 'very_active_rate_3h', 'running_rate_3h',\n",
       "       'steps_max_1h', 'steps_min_1h', 'steps_mean_1h', 'steps_var_1h',\n",
       "       'steps_median_1h', 'move_rate_1h', 'active_rate_1h',\n",
       "       'very_active_rate_1h', 'running_rate_1h', 'steps_max_30m',\n",
       "       'steps_min_30m', 'steps_mean_30m', 'steps_var_30m',\n",
       "       'steps_median_30m', 'move_rate_30m', 'active_rate_30m',\n",
       "       'very_active_rate_30m', 'running_rate_30m', 'steps_max_10m',\n",
       "       'steps_min_10m', 'steps_mean_10m', 'steps_var_10m',\n",
       "       'steps_median_10m', 'move_rate_10m', 'active_rate_10m',\n",
       "       'very_active_rate_10m', 'running_rate_10m', 'steps_max_5m',\n",
       "       'steps_min_5m', 'steps_mean_5m', 'steps_var_5m', 'steps_median_5m',\n",
       "       'move_rate_5m', 'active_rate_5m', 'very_active_rate_5m',\n",
       "       'running_rate_5m', 'subject_id_y', 'hr_max', 'hr_min', 'hr_med',\n",
       "       'hr_0', 'hr_0.3', 'hr_0.5', 'hr_0.8', 'hr_1', 'SDNN_3h', 'pHR2_3h',\n",
       "       'rMSSD_3h', 'low_hr_3h', 'high_hr_3h', 'l_h_3h', 'CR_3h',\n",
       "       'hr_mean_3h', 'hr_var_3h', 'hr_std_3h', 'hr_median_3h',\n",
       "       'hr_rest_rate_3h', 'hr_moderate_rate_3h', 'hr_very_active_rate_3h',\n",
       "       'SDNN_1h', 'pHR2_1h', 'rMSSD_1h', 'low_hr_1h', 'high_hr_1h',\n",
       "       'l_h_1h', 'CR_1h', 'hr_mean_1h', 'hr_var_1h', 'hr_std_1h',\n",
       "       'hr_median_1h', 'hr_rest_rate_1h', 'hr_moderate_rate_1h',\n",
       "       'hr_very_active_rate_1h', 'SDNN_30m', 'pHR2_30m', 'rMSSD_30m',\n",
       "       'low_hr_30m', 'high_hr_30m', 'l_h_30m', 'CR_30m', 'hr_mean_30m',\n",
       "       'hr_var_30m', 'hr_std_30m', 'hr_median_30m', 'hr_rest_rate_30m',\n",
       "       'hr_moderate_rate_30m', 'hr_very_active_rate_30m', 'SDNN_10m',\n",
       "       'pHR2_10m', 'rMSSD_10m', 'low_hr_10m', 'high_hr_10m', 'l_h_10m',\n",
       "       'CR_10m', 'hr_mean_10m', 'hr_var_10m', 'hr_std_10m',\n",
       "       'hr_median_10m', 'hr_rest_rate_10m', 'hr_moderate_rate_10m',\n",
       "       'hr_very_active_rate_10m', 'SDNN_5m', 'pHR2_5m', 'rMSSD_5m',\n",
       "       'low_hr_5m', 'high_hr_5m', 'l_h_5m', 'CR_5m', 'hr_mean_5m',\n",
       "       'hr_var_5m', 'hr_std_5m', 'hr_median_5m', 'hr_rest_rate_5m',\n",
       "       'hr_moderate_rate_5m', 'hr_very_active_rate_5m', 'Subject_x',\n",
       "       'SBQ', 'FTP', 'SWLS', 'Neuroticism', 'Extraversion',\n",
       "       'Conscientiousness', 'NS_total', 'BIS_total', 'BIS.5', 'BAS_D',\n",
       "       'BAS_FS', 'BAS_RR', 'HAP_actual', 'P_actual', 'LAP_actual',\n",
       "       'LA_actual', 'LAN_actual', 'N_actual', 'HAN_actual', 'HA_actual',\n",
       "       'HAP_ideal', 'P_ideal', 'LAP_ideal', 'LA_ideal', 'LAN_ideal',\n",
       "       'N_ideal', 'HAN_ideal', 'HA_ideal', 'Education', 'Ethnicity',\n",
       "       'Sex', 'Marital_Status', 'Children', 'Household_income', 'Age',\n",
       "       'BMI', 'survey_hour', 'Subject_y', 'r2r_corr', 'Experiment_y',\n",
       "       'Corr_z', 'max_n', 'max_p', 'valence_p', 'valence_n',\n",
       "       'valence_reg', 'valence', 'edu', 'edu_hs', 'edu_ba', 'edu_ma',\n",
       "       'edu_phd', 'is_married', 'is_divorced', 'is_single', 'is_widowed',\n",
       "       'is_with_partner', 'income'], dtype=object)"
      ]
     },
     "execution_count": 58,
     "metadata": {},
     "output_type": "execute_result"
    }
   ],
   "source": [
    "exp_clean.columns.values"
   ]
  },
  {
   "cell_type": "code",
   "execution_count": 59,
   "metadata": {},
   "outputs": [],
   "source": [
    "exp_clean = exp_clean.drop(['index','Unnamed: 0', 'Unnamed: 0.1', 'start_survey', 'survey_no', 'DATE_x', 'Period_of_day', 'VALENCE', 'VALENCE_mean','Subject_y', 'Experiment_y','Education', 'Ethnicity','Sex', 'Marital_Status', 'edu','Household_income','Subject_x',  'subject_id_x', 'subject_id_y','survey_date', 'start_survey_10m_ahead', 'start_survey_1h_ahead', 'start_survey_30m_ahead', 'start_survey_3h_ahead', 'start_survey_5m_ahead', 'experiment'], axis=1)"
   ]
  },
  {
   "cell_type": "markdown",
   "metadata": {},
   "source": [
    "### 4.Export"
   ]
  },
  {
   "cell_type": "code",
   "execution_count": 60,
   "metadata": {},
   "outputs": [],
   "source": [
    "exp_clean = exp_clean.reset_index(drop=True)\n",
    "exp_clean.to_csv('./data/processed/exp.csv')"
   ]
  },
  {
   "cell_type": "code",
   "execution_count": null,
   "metadata": {},
   "outputs": [],
   "source": []
  }
 ],
 "metadata": {
  "kernelspec": {
   "display_name": "Python 3",
   "language": "python",
   "name": "python3"
  },
  "language_info": {
   "codemirror_mode": {
    "name": "ipython",
    "version": 3
   },
   "file_extension": ".py",
   "mimetype": "text/x-python",
   "name": "python",
   "nbconvert_exporter": "python",
   "pygments_lexer": "ipython3",
   "version": "3.7.5"
  }
 },
 "nbformat": 4,
 "nbformat_minor": 4
}
